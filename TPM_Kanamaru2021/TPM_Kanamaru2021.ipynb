{
 "cells": [
  {
   "attachments": {},
   "cell_type": "markdown",
   "metadata": {},
   "source": [
    "# Load packages"
   ]
  },
  {
   "cell_type": "code",
   "execution_count": null,
   "metadata": {},
   "outputs": [],
   "source": [
    "import ThermoPhysicalModeling\n",
    "import Downloads\n",
    "using StaticArrays\n",
    "using LinearAlgebra"
   ]
  },
  {
   "attachments": {},
   "cell_type": "markdown",
   "metadata": {},
   "source": [
    "# Download files"
   ]
  },
  {
   "attachments": {},
   "cell_type": "markdown",
   "metadata": {},
   "source": [
    "To compare with Kanamaru et al. (2021), plase use the public shape models `SHAPE_SFM_49k_v20180804.obj`."
   ]
  },
  {
   "cell_type": "code",
   "execution_count": null,
   "metadata": {},
   "outputs": [],
   "source": [
    "path_obj = \"SHAPE_SFM_49k_v20180804.obj\"\n",
    "if !isfile(path_obj)\n",
    "    url_obj = \"https://data.darts.isas.jaxa.jp/pub/hayabusa2/paper/Watanabe_2019/SHAPE_SFM_49k_v20180804.obj\"\n",
    "    Downloads.download(url_obj, path_obj)\n",
    "end"
   ]
  },
  {
   "attachments": {},
   "cell_type": "markdown",
   "metadata": {},
   "source": [
    "# Load shape model"
   ]
  },
  {
   "cell_type": "code",
   "execution_count": null,
   "metadata": {},
   "outputs": [],
   "source": [
    "path_jld = splitext(path_obj)[1]*\".jld2\"\n",
    "if isfile(path_jld)\n",
    "    shape = ThermoPhysicalModeling.ShapeModel(path_jld)\n",
    "    println(\"A preprocessed shape file was loaded ($path_jld).\")\n",
    "else\n",
    "    shape = ThermoPhysicalModeling.ShapeModel(path_obj; scale=1000, find_visible_facets=true, save_shape=true)\n",
    "    println(\"An OBJ shape file was loaded ($path_obj).\")\n",
    "end"
   ]
  },
  {
   "attachments": {},
   "cell_type": "markdown",
   "metadata": {},
   "source": [
    "# Replicate the result of Kanamaru et al. (2021)\n",
    "Thermophysical model in Kanamaru et al. (2021):\n",
    "- 3D shape of asteroid Ryugu\n",
    "- Self-shadowing\n",
    "- Zero-conductivity\n",
    "- Ignore reabsorption of scttering and radiation"
   ]
  },
  {
   "cell_type": "code",
   "execution_count": null,
   "metadata": {},
   "outputs": [],
   "source": [
    "\"\"\"\n",
    "    solar_irradiation(distance) -> solar_irrad\n",
    "\n",
    "Calculate the solar irradiation on the body\n",
    "\n",
    "# Parameter\n",
    "- `rₕ` : heliocentric distance of the body [m]\n",
    "\n",
    "# Return\n",
    "- `F☉` : solar irradiation [W/m^2]\n",
    "\"\"\"\n",
    "solar_irradiation(rₕ) = ThermoPhysicalModeling.SOLAR_CONST / (rₕ / ThermoPhysicalModeling.AU)^2\n",
    "\n",
    "\n",
    "\"\"\"\n",
    "    solar_condition(orbit, spin, time) -> Φ, r_sun\n",
    "\n",
    "Get the solar irradition and the direction of the Sun\n",
    "\n",
    "# Parameters\n",
    "- `orbit` : Orbital elements\n",
    "- `spin`  : Spin parameters\n",
    "- `time`  : Epoch in seconds\n",
    "\n",
    "# Returns\n",
    "- `F☉` : solar irradiation [W/m^2]\n",
    "- `r̂☉` : solar direction in the body-fixed frame\n",
    "\"\"\"\n",
    "function solar_condition(orbit, spin, time)\n",
    "    u = ThermoPhysicalModeling.solveKeplerEquation2(orbit, time)\n",
    "    r = ThermoPhysicalModeling.get_r(orbit, u)\n",
    "    F☉ = solar_irradiation(norm(r))\n",
    "\n",
    "    r̂☉ = normalize(r) * -1  # Shift the origin from the sun to the body\n",
    "\n",
    "    spin_phase = spin.ω * time\n",
    "    r̂☉ = ThermoPhysicalModeling.orbit_to_body(r̂☉, spin.γ, spin.ε, spin_phase)\n",
    "\n",
    "    F☉, r̂☉\n",
    "end\n",
    "\n",
    "\n",
    "\"\"\"\n",
    "    sum_torque_over_surface(shape, F☉, r̂☉) -> τ\n",
    "\n",
    "# Parameters\n",
    "- `shape` : Shape model\n",
    "- `F☉`    : Solar irradiation [W/m^2]\n",
    "- `r̂☉`    : Direction of the sun in the body-fixed frame (normalized)\n",
    "\n",
    "# Return\n",
    "- `τ`\n",
    "\"\"\"\n",
    "function sum_torque_over_surface(shape, F☉, r̂☉)\n",
    "    τ = MVector(0., 0., 0.)  # YORP torque\n",
    "\n",
    "    for facet in shape.facets\n",
    "        Ψ = facet.normal ⋅ r̂☉  # cosine of the Sun illumination angle\n",
    "        if Ψ > 0  # daytime hemisphere of the body\n",
    "            if ThermoPhysicalModeling.isIlluminated(facet, r̂☉, shape.facets)\n",
    "                df = Ψ * facet.area * facet.normal  # force on each facet\n",
    "                dτ = facet.center × df              # torque on each facet\n",
    "                τ .+= dτ\n",
    "            end\n",
    "        end\n",
    "    end\n",
    "    τ *= - 2/3 * F☉ / ThermoPhysicalModeling.c₀\n",
    "    return SVector(τ)\n",
    "end\n",
    "\n",
    "\n",
    "\"\"\"\n",
    "    net_torque(shape, orbit, spin, times) -> τ̄\n",
    "\n",
    "Average YORP torque over given time steps\n",
    "\"\"\"\n",
    "function net_torque(shape, orbit, spin, times)\n",
    "    τ̄ = MVector(0., 0., 0.)  # net YORP torque\n",
    "\n",
    "    for time in times\n",
    "        spin_phase = spin.ω * time\n",
    "        F☉, r̂☉ = solar_condition(orbit, spin, time)\n",
    "        τ = sum_torque_over_surface(shape, F☉, r̂☉)\n",
    "        τ = ThermoPhysicalModeling.body_to_orbit(τ, spin.γ, spin.ε, spin_phase)\n",
    "\n",
    "        τ̄ .+= τ\n",
    "    end\n",
    "    τ̄ /= length(times)\n",
    "end"
   ]
  },
  {
   "cell_type": "code",
   "execution_count": null,
   "metadata": {},
   "outputs": [],
   "source": [
    "orbit = ThermoPhysicalModeling.OrbitalElements(ThermoPhysicalModeling.RYUGU)"
   ]
  },
  {
   "cell_type": "code",
   "execution_count": null,
   "metadata": {},
   "outputs": [],
   "source": [
    "spin = ThermoPhysicalModeling.SpinParams(ThermoPhysicalModeling.RYUGU, orbit)"
   ]
  },
  {
   "cell_type": "code",
   "execution_count": null,
   "metadata": {},
   "outputs": [],
   "source": [
    "Δt = spin.P / 72\n",
    "times = collect(0:Δt:orbit.P);"
   ]
  },
  {
   "attachments": {},
   "cell_type": "markdown",
   "metadata": {},
   "source": [
    "YORP torque averaged over an orbit cycle. In this setting, a laptop computer takes about an hour to calculate."
   ]
  },
  {
   "cell_type": "code",
   "execution_count": null,
   "metadata": {},
   "outputs": [],
   "source": [
    "τ̄ = net_torque(shape, orbit, spin, times)"
   ]
  },
  {
   "cell_type": "code",
   "execution_count": null,
   "metadata": {},
   "outputs": [],
   "source": [
    "MOI = 4.039541372643629e16  # Moment of inertia of Ryugu\n",
    "\n",
    "## Orbitally averaged torque [N ⋅ m]\n",
    "τ̄_ω = ThermoPhysicalModeling.getτω(τ̄, spin)\n",
    "τ̄_ε = ThermoPhysicalModeling.getτε(τ̄, spin)\n",
    "τ̄_ψ = ThermoPhysicalModeling.getτψ(τ̄, spin)\n",
    "\n",
    "## Acceleration rate [rad/sec/sec]\n",
    "ω̇  = τ̄_ω / MOI\n",
    "ωε̇ = τ̄_ε / MOI\n",
    "ωψ̇ = τ̄_ψ / MOI\n",
    "\n",
    "## Acceleration rate [deg/day/day]\n",
    "ω̇  = rad2deg(ω̇)  * (3600*24)^2\n",
    "ωε̇ = rad2deg(ωε̇) * (3600*24)^2\n",
    "ωψ̇ = rad2deg(ωψ̇) * (3600*24)^2;"
   ]
  },
  {
   "cell_type": "code",
   "execution_count": null,
   "metadata": {},
   "outputs": [],
   "source": [
    "@show ω̇\n",
    "@show ωε̇\n",
    "@show ωψ̇;"
   ]
  },
  {
   "attachments": {},
   "cell_type": "markdown",
   "metadata": {},
   "source": [
    "See the result of `SHAPE_SFM_49k_v20180804.obj` in Table 3 in Kanamaru et al. (2021). Because of a change of the libarary, it might make a difference of a few percent.\n",
    "\n",
    "(ω̇, ωε̇, ωψ̇) = (-3.531e-6, 1.667e-6, 3.973e-5)"
   ]
  },
  {
   "cell_type": "code",
   "execution_count": null,
   "metadata": {},
   "outputs": [],
   "source": []
  }
 ],
 "metadata": {
  "kernelspec": {
   "display_name": "Julia 1.6.0",
   "language": "julia",
   "name": "julia-1.6"
  },
  "language_info": {
   "file_extension": ".jl",
   "mimetype": "application/julia",
   "name": "julia",
   "version": "1.6.4"
  }
 },
 "nbformat": 4,
 "nbformat_minor": 4
}
