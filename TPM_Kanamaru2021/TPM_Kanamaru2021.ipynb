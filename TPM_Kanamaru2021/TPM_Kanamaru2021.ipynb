{
 "cells": [
  {
   "attachments": {},
   "cell_type": "markdown",
   "metadata": {},
   "source": [
    "# Load packages"
   ]
  },
  {
   "cell_type": "code",
   "execution_count": 58,
   "metadata": {},
   "outputs": [],
   "source": [
    "import Astroshaper\n",
    "import GLMakie\n",
    "import Downloads\n",
    "import Statistics\n",
    "using StaticArrays\n",
    "using LinearAlgebra"
   ]
  },
  {
   "attachments": {},
   "cell_type": "markdown",
   "metadata": {},
   "source": [
    "# Download files"
   ]
  },
  {
   "cell_type": "code",
   "execution_count": 7,
   "metadata": {},
   "outputs": [],
   "source": [
    "path_obj = \"SHAPE_SFM_49k_v20180804.obj\"\n",
    "if !isfile(path_obj)\n",
    "    url_obj = \"https://data.darts.isas.jaxa.jp/pub/hayabusa2/paper/Watanabe_2019/SHAPE_SFM_49k_v20180804.obj\"\n",
    "    Downloads.download(url_obj, path_obj)\n",
    "end"
   ]
  },
  {
   "attachments": {},
   "cell_type": "markdown",
   "metadata": {},
   "source": [
    "# Load shape model"
   ]
  },
  {
   "cell_type": "code",
   "execution_count": 75,
   "metadata": {},
   "outputs": [
    {
     "name": "stdout",
     "output_type": "stream",
     "text": [
      "A preprocessed shape file (SHAPE_SFM_49k_v20180804.jld2) was loaded.\n"
     ]
    }
   ],
   "source": [
    "path_jld = splitext(path_obj)[1]*\".jld2\"\n",
    "if isfile(path_jld)\n",
    "    shape = Astroshaper.ShapeModel(path_jld; scale=1000, find_visible_facets=true, save_shape=true)\n",
    "    println(\"A preprocessed shape file ($path_jld) was loaded.\")\n",
    "else\n",
    "    shape = Astroshaper.ShapeModel(path_obj; scale=1000, find_visible_facets=true, save_shape=true)\n",
    "    println(\"A shape file ($path_obj) was loaded.\")\n",
    "end"
   ]
  },
  {
   "attachments": {},
   "cell_type": "markdown",
   "metadata": {},
   "source": [
    "# Replicate the result of Kanamaru et al. (2021)\n",
    "Thermophysical model in Kanamaru et al. (2021):\n",
    "- 3D shape of asteroid Ryugu\n",
    "- Self-shadowing\n",
    "- Zero-conductivity\n",
    "- Ignore reabsorption of scttering and radiation"
   ]
  },
  {
   "cell_type": "code",
   "execution_count": 76,
   "metadata": {},
   "outputs": [
    {
     "data": {
      "text/plain": [
       "getNetTorque_shadowing"
      ]
     },
     "execution_count": 76,
     "metadata": {},
     "output_type": "execute_result"
    }
   ],
   "source": [
    "\"\"\"\n",
    "    getSolarIrradiation(distance) -> solar_irrad\n",
    "\n",
    "Calculate the solar irradiation on the body\n",
    "\n",
    "# Parameter\n",
    "- `rₕ` : heliocentric distance of the body [m]\n",
    "\n",
    "# Return\n",
    "- `F☉` : solar irradiation [W/m^2]\n",
    "\"\"\"\n",
    "getSolarIrradiation(rₕ) = Astroshaper.SOLAR_CONST / (rₕ / Astroshaper.AU)^2\n",
    "\n",
    "\n",
    "\"\"\"\n",
    "    getSolarCondition(orbit, spin, time) -> Φ, r_sun\n",
    "\n",
    "Get the solar irradition and the direction of the Sun\n",
    "\n",
    "# Parameters\n",
    "- `orbit` : Orbital elements\n",
    "- `spin`  : Spin parameters\n",
    "- `time`  : Epoch in seconds\n",
    "\n",
    "# Returns\n",
    "- `F☉` : solar irradiation [W/m^2]\n",
    "- `r̂☉` : solar direction in the body-fixed frame\n",
    "\"\"\"\n",
    "function getSolarCondition(orbit, spin, time)\n",
    "    u = Astroshaper.solveKeplerEquation2(orbit, time)\n",
    "    r = Astroshaper.get_r(orbit, u)\n",
    "    F☉ = getSolarIrradiation(norm(r))\n",
    "\n",
    "    r̂☉ = normalize(r) * -1  # Shift the origin from the sun to the body\n",
    "\n",
    "    spin_phase = spin.ω * time\n",
    "    r̂☉ = Astroshaper.orbit_to_body(r̂☉, spin.γ, spin.ε, spin_phase)\n",
    "\n",
    "    F☉, r̂☉\n",
    "end\n",
    "\n",
    "\n",
    "\"\"\"\n",
    "    sumTorqueOverSurface_shadowing(shape, F☉, r̂☉) -> τ\n",
    "\n",
    "# Parameters\n",
    "- `shape` : Shape model\n",
    "- `F☉`    : Solar irradiation [W/m^2]\n",
    "- `r̂☉`    : Direction of the sun in the body-fixed frame (normalized)\n",
    "\n",
    "# Return\n",
    "- `τ`\n",
    "\"\"\"\n",
    "function sumTorqueOverSurface_shadowing(shape, F☉, r̂☉)\n",
    "    τ = MVector(0., 0., 0.)  # YORP torque\n",
    "\n",
    "    for facet in shape.facets\n",
    "        Ψ = facet.normal ⋅ r̂☉  # cosine of the Sun illumination angle\n",
    "        if Ψ > 0  # daytime hemisphere of the body\n",
    "            if Astroshaper.isIlluminated(facet, r̂☉, shape.facets)\n",
    "                df = Ψ * facet.area * facet.normal  # force on each facet\n",
    "                dτ = facet.center × df              # torque on each facet\n",
    "                τ .+= dτ\n",
    "            end\n",
    "        end\n",
    "    end\n",
    "    τ *= - 2/3 * F☉ / Astroshaper.c₀\n",
    "    return SVector(τ)\n",
    "end\n",
    "\n",
    "\n",
    "\"\"\"\n",
    "    getNetTorque(shape, orbit, spin, times) -> τ̄\n",
    "\n",
    "Average YORP torque over given time steps\n",
    "\"\"\"\n",
    "function getNetTorque_shadowing(shape, orbit, spin, times)\n",
    "    τ̄ = MVector(0., 0., 0.)  # net YORP torque\n",
    "\n",
    "    for time in times\n",
    "        spin_phase = spin.ω * time\n",
    "        F☉, r̂☉ = getSolarCondition(orbit, spin, time)\n",
    "        τ = sumTorqueOverSurface_shadowing(shape, F☉, r̂☉)\n",
    "        τ = Astroshaper.body_to_orbit(τ, spin.γ, spin.ε, spin_phase)\n",
    "\n",
    "        τ̄ .+= τ\n",
    "    end\n",
    "    τ̄ /= length(times)\n",
    "end"
   ]
  },
  {
   "cell_type": "code",
   "execution_count": 77,
   "metadata": {},
   "outputs": [
    {
     "data": {
      "text/plain": []
     },
     "execution_count": 77,
     "metadata": {},
     "output_type": "execute_result"
    },
    {
     "name": "stdout",
     "output_type": "stream",
     "text": [
      "--------------------\n",
      "  Orbital elements  \n",
      "--------------------\n",
      "    Semi-mojor axis         : a  = 1.18956373 [AU]\n",
      "    Eccentricity            : e  = 0.19027921 [-]\n",
      "    Lon. of ascending node  : Ω  = 251.589203 [deg]\n",
      "    Argument of periapsis   : ω  = 211.435963 [deg]\n",
      "    Inclination             : I  = 5.8840222 [deg]\n",
      "    Periapsis passage time  : tₚ = -2.49480381575583e6 [sec]\n",
      "    Mean anomaly            : Φ  = 21.9353799 [deg]\n",
      "--------------------\n",
      "  Other parameters  \n",
      "--------------------\n",
      "    Gravitational parameter : μ = 1.32712440018e20 [m^3/s^2]\n",
      "    Mean motion             : n = 0.7596656744674016 [deg/day]\n",
      "    Orbital period          : P = 473.8926768705121 [day]\n",
      "------------------\n",
      "  Time-variables  \n",
      "------------------\n",
      "    Time                    : t  = 0.0 [sec]\n",
      "    Eccentric anomaly       : u  = 26.861352366162944 [deg]\n",
      "    True anomaly            : ν  = 32.29438904892344 [deg]\n",
      "    Position                : r  = [1.2489380764712772e11, 7.893747000217802e10, 0.0] [m]\n",
      "    Velocity                : v  = [-14861.670377358321, 28806.89473107619, 0.0] [m/s]\n",
      "    Solar irradiation       : F☉ = 1400.4125578742885 [W/m²]\n"
     ]
    }
   ],
   "source": [
    "orbit = Astroshaper.OrbitalElements(Astroshaper.RYUGU)"
   ]
  },
  {
   "cell_type": "code",
   "execution_count": 78,
   "metadata": {},
   "outputs": [
    {
     "data": {
      "text/plain": []
     },
     "execution_count": 78,
     "metadata": {},
     "output_type": "execute_result"
    },
    {
     "name": "stdout",
     "output_type": "stream",
     "text": [
      "-------------------\n",
      "  Spin parameters  \n",
      "-------------------\n",
      "Right ascension (RA) : α = 96.4 [deg]\n",
      "Declination (Dec)    : δ = -66.4 [deg]\n",
      "Ecliptic longitude   : λ = 179.33757188938182 [deg]\n",
      "Ecliptic latitude    : β = -87.44207056697601 [deg]\n",
      "Obliquity            : ε = 171.65664649001607 [deg]\n",
      "Spin period          : P = 7.63262 [hours]\n",
      "Spin rate            : ω = 0.00022866712242903872 [rad/sec]\n",
      "Vernal equinox lon.  : γ = 154.3323208882217 [deg]\n",
      "                           (longitude from the periheion direction)\n",
      "Time                 : t  = 0.0 [sec]\n",
      "Initial spin phase   : ϕ₀ = 0.0 [deg]\n",
      "Spin phase           : ϕ  = 0.0 [deg]\n"
     ]
    }
   ],
   "source": [
    "spin = Astroshaper.SpinParams(Astroshaper.RYUGU, orbit)"
   ]
  },
  {
   "cell_type": "code",
   "execution_count": 81,
   "metadata": {},
   "outputs": [],
   "source": [
    "Δt = spin.P / 72\n",
    "times = collect(0:Δt:orbit.P);"
   ]
  },
  {
   "attachments": {},
   "cell_type": "markdown",
   "metadata": {},
   "source": [
    "YORP torque averaged over an orbit cycle"
   ]
  },
  {
   "cell_type": "code",
   "execution_count": 82,
   "metadata": {},
   "outputs": [
    {
     "data": {
      "text/plain": [
       "3-element MVector{3, Float64} with indices SOneTo(3):\n",
       "  3.293794071192184\n",
       " -1.8096012087962008\n",
       "  0.3083406885385439"
      ]
     },
     "execution_count": 82,
     "metadata": {},
     "output_type": "execute_result"
    }
   ],
   "source": [
    "τ̄ = getNetTorque_shadowing(shape, orbit, spin, times)"
   ]
  },
  {
   "cell_type": "code",
   "execution_count": 83,
   "metadata": {},
   "outputs": [],
   "source": [
    "MOI = 4.039541372643629e16  # Moment of inertia\n",
    "\n",
    "## Orbitally averaged torque [N ⋅ m]\n",
    "τ̄_ω = Astroshaper.getτω(τ̄, spin)\n",
    "τ̄_ε = Astroshaper.getτε(τ̄, spin)\n",
    "τ̄_ψ = Astroshaper.getτψ(τ̄, spin)\n",
    "\n",
    "## Acceleration rate [rad/sec/sec]\n",
    "ω̇  = τ̄_ω / MOI\n",
    "ωε̇ = τ̄_ε / MOI\n",
    "ωψ̇ = τ̄_ψ / MOI\n",
    "\n",
    "## Acceleration rate [deg/day/day]\n",
    "ω̇  = rad2deg(ω̇)  * (3600*24)^2\n",
    "ωε̇ = rad2deg(ωε̇) * (3600*24)^2\n",
    "ωψ̇ = rad2deg(ωψ̇) * (3600*24)^2;"
   ]
  },
  {
   "cell_type": "code",
   "execution_count": 88,
   "metadata": {},
   "outputs": [
    {
     "name": "stdout",
     "output_type": "stream",
     "text": [
      "ω̇ = -3.544108293602548e-6\n",
      "ωε̇ = 1.6667681590116214e-6\n",
      "ωψ̇ = 3.973287955614437e-5\n"
     ]
    }
   ],
   "source": [
    "@show ω̇\n",
    "@show ωε̇\n",
    "@show ωψ̇;"
   ]
  },
  {
   "attachments": {},
   "cell_type": "markdown",
   "metadata": {},
   "source": [
    "See Table 3 in Kanamaru et al. (2021)\n",
    "\n",
    "(ω̇, ωε̇, ωψ̇) = (-3.531e-6, 1.667e-6, 3.973e-5)"
   ]
  },
  {
   "cell_type": "code",
   "execution_count": null,
   "metadata": {},
   "outputs": [],
   "source": []
  },
  {
   "cell_type": "code",
   "execution_count": null,
   "metadata": {},
   "outputs": [],
   "source": []
  }
 ],
 "metadata": {
  "kernelspec": {
   "display_name": "Julia 1.8.1",
   "language": "julia",
   "name": "julia-1.8"
  },
  "language_info": {
   "file_extension": ".jl",
   "mimetype": "application/julia",
   "name": "julia",
   "version": "1.8.4"
  }
 },
 "nbformat": 4,
 "nbformat_minor": 4
}
