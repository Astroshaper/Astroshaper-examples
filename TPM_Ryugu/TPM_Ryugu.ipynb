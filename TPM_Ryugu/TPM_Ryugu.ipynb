{
 "cells": [
  {
   "cell_type": "markdown",
   "id": "9ecb0b76",
   "metadata": {},
   "source": [
    "# Load packages"
   ]
  },
  {
   "cell_type": "code",
   "execution_count": null,
   "id": "153d9e0c",
   "metadata": {},
   "outputs": [],
   "source": [
    "import Astroshaper\n",
    "import DataFrames\n",
    "import GLMakie\n",
    "import JLD2\n",
    "\n",
    "import Revise\n",
    "import Astroshaper\n",
    "import SPICE\n",
    "import Downloads\n",
    "import Statistics"
   ]
  },
  {
   "cell_type": "markdown",
   "id": "1ee114e7",
   "metadata": {},
   "source": [
    "# Download files"
   ]
  },
  {
   "cell_type": "code",
   "execution_count": null,
   "id": "f70cad9c",
   "metadata": {},
   "outputs": [],
   "source": [
    "path_meta_new = \"hyb2_v03.tm\"\n",
    "if !isfile(path_meta_new)\n",
    "    # Dowonload files for SPICE\n",
    "    cmd = `wget -nv -m -np -nH --cut-dirs=3 -R \"index.html*\" --execute robots=off --wait=1 https://data.darts.isas.jaxa.jp/pub/hayabusa2/spice_bundle/spice_kernels/`\n",
    "    run(cmd)\n",
    "\n",
    "    # Update path\n",
    "    path_meta_old = \"spice_kernels/mk/hyb2_v03.tm\"\n",
    "    path_meta_new = \"hyb2_v03.tm\"\n",
    "    cp(path_meta_old, path_meta_new, force=true)\n",
    "    script = read(path_meta_new, String)\n",
    "    script = replace(script, \"PATH_VALUES     = ( '..'      )\"=>\"PATH_VALUES     = ('$(abspath(\"spice_kernels\"))')\")\n",
    "    write(path_meta_new, script)\n",
    "end\n",
    "\n",
    "path_obj = \"SHAPE_SFM_49k_v20180804.obj\"\n",
    "if !isfile(path_obj)\n",
    "    url_obj = \"https://data.darts.isas.jaxa.jp/pub/hayabusa2/paper/Watanabe_2019/SHAPE_SFM_49k_v20180804.obj\"\n",
    "    Downloads.download(url_obj, path_obj)\n",
    "end"
   ]
  },
  {
   "cell_type": "markdown",
   "id": "2254bd2f",
   "metadata": {},
   "source": [
    "# Load data with SPICE"
   ]
  },
  {
   "cell_type": "code",
   "execution_count": null,
   "id": "e7fc8c55",
   "metadata": {},
   "outputs": [],
   "source": [
    "SPICE.furnsh(path_meta_new)\n",
    "et_start = SPICE.utc2et(\"2018-07-01T00:00:00\")\n",
    "et_end   = SPICE.utc2et(\"2018-07-02T00:00:00\")\n",
    "step     = 76.3262  # Rotation of 1 deg\n",
    "et_range = et_start : step : et_end\n",
    "@show et_range\n",
    "@show length(et_range)\n",
    "\n",
    "# Indices of et_range to be saved.\n",
    "# Save only the last rotation.\n",
    "save_range = findall(et_range .> et_range[end] - 7.63262 * 3600)\n",
    "@show save_range[begin]\n",
    "@show save_range[end]\n",
    "@show length(save_range);\n",
    "\n",
    "# Sun's position in the RYUGU_FIXED frame\n",
    "sun_ryugu = [SPICE.spkpos(\"SUN\", et, \"RYUGU_FIXED\", \"None\", \"RYUGU\")[1]*1000 for et in et_range]\n",
    "# Transformation matrix from RYUGU_FIXED to J2000\n",
    "RYUGU_TO_J2000 = [SPICE.pxform(\"RYUGU_FIXED\", \"J2000\", et) for et in et_range]\n",
    "SPICE.kclear()"
   ]
  },
  {
   "cell_type": "markdown",
   "id": "de29e27d",
   "metadata": {},
   "source": [
    "# Load obj file"
   ]
  },
  {
   "cell_type": "code",
   "execution_count": null,
   "id": "0ff34614",
   "metadata": {},
   "outputs": [],
   "source": [
    "path_jld = splitext(path_obj)[1]*\".jld2\"\n",
    "if isfile(path_jld)\n",
    "    shape = Astroshaper.ShapeModel(path_jld; scale=1000, find_visible_facets=true, save_shape=true)\n",
    "else\n",
    "    shape = Astroshaper.ShapeModel(path_obj; scale=1000, find_visible_facets=true, save_shape=true)\n",
    "end"
   ]
  },
  {
   "cell_type": "markdown",
   "id": "db9ab824",
   "metadata": {},
   "source": [
    "# TPM"
   ]
  },
  {
   "cell_type": "code",
   "execution_count": null,
   "id": "7cbe6368",
   "metadata": {},
   "outputs": [],
   "source": [
    "thermo_params = Astroshaper.ThermoParams(\n",
    "    A_B   = 0.04,  # Bolometric Bond albedo\n",
    "    A_TH  = 0.0,\n",
    "    k     = 0.1,\n",
    "    ρ     = 1270.0,\n",
    "    Cp    = 600.0,\n",
    "    ϵ     = 1.0,\n",
    "    t_bgn = et_range[begin],\n",
    "    t_end = et_range[end],\n",
    "    Nt    = length(et_range),\n",
    "    z_max = 0.6,\n",
    "    Nz    = 41,\n",
    "    P     = 7.63262 * 3600,\n",
    ")"
   ]
  },
  {
   "cell_type": "code",
   "execution_count": null,
   "id": "8b2217a0",
   "metadata": {},
   "outputs": [],
   "source": [
    "# Run TPM and save the result\n",
    "savepath = \"TPM_Ryugu.jld2\"\n",
    "Astroshaper.run_TPM!(shape, et_range, sun_ryugu, thermo_params, savepath, save_range)\n",
    "\n",
    "JLD2.jldopen(savepath, \"r+\") do file\n",
    "    file[\"RYUGU_TO_J2000\"] = RYUGU_TO_J2000[save_range]\n",
    "end;"
   ]
  },
  {
   "cell_type": "markdown",
   "id": "44f03531",
   "metadata": {},
   "source": [
    "# Visualize the result"
   ]
  },
  {
   "cell_type": "code",
   "execution_count": null,
   "id": "2973d99f",
   "metadata": {},
   "outputs": [],
   "source": [
    "surface_temperature(shape::Astroshaper.ShapeModel) = [facet.temps[begin] for facet in shape.facets]\n",
    "\n",
    "function VectorVector2Matrix(v)\n",
    "    m = Matrix{eltype(v[end])}(undef, length(v), 3)\n",
    "    for i in eachindex(v)\n",
    "        m[i, :] .= v[i]\n",
    "    end\n",
    "    m\n",
    "end\n",
    "\n",
    "function face2node(nodes, faces, data)\n",
    "    node_data = Vector{eltype(data)}(undef, size(nodes, 1))\n",
    "    \n",
    "    for node_index in eachindex(node_data)\n",
    "        face_indices = findall(faces.==node_index)\n",
    "        if length(face_indices) == 0\n",
    "            node_data[node_index] = NaN\n",
    "            continue\n",
    "        end\n",
    "        node_data[node_index] = Statistics.mean(data[face_index[1]] for face_index in face_indices)\n",
    "    end\n",
    "    node_data\n",
    "end\n",
    "\n",
    "function draw(shape::Astroshaper.ShapeModel; data=nothing, r̂☉=[1,0,0.], colormap=:viridis, strokecolor=:gray20, strokewidth=1)\n",
    "    nodes = VectorVector2Matrix(shape.nodes)\n",
    "    faces = VectorVector2Matrix(shape.faces)\n",
    "\n",
    "    if data === nothing\n",
    "        color = :gray\n",
    "    elseif data == :radius\n",
    "        color = [norm(v) for v in eachrow(nodes)]\n",
    "    elseif data == :temperature\n",
    "        surf_temps = surface_temperature(shape)\n",
    "        color = face2node(nodes, faces, surf_temps)\n",
    "    elseif data == :illumination\n",
    "        illumination = Float64.(isIlluminated(r̂☉, shape))\n",
    "        color = face2node(nodes, faces, illumination)\n",
    "    else\n",
    "        color = face2node(nodes, faces, data)\n",
    "    end\n",
    "\n",
    "    scene = GLMakie.poly(nodes, faces,\n",
    "        color=color, colormap=colormap,\n",
    "        strokecolor=strokecolor, strokewidth=strokewidth,\n",
    "        size=(1500,1500)\n",
    "    )\n",
    "\n",
    "    GLMakie.set_theme!(backgroundcolor=:white)\n",
    "    display(scene)\n",
    "end"
   ]
  },
  {
   "cell_type": "code",
   "execution_count": null,
   "id": "bc222fce",
   "metadata": {},
   "outputs": [],
   "source": [
    "draw(shape; data=:temperature, colormap=:vik, strokewidth=0.05)"
   ]
  }
 ],
 "metadata": {
  "kernelspec": {
   "display_name": "Julia 1.8.4",
   "language": "julia",
   "name": "julia-1.8"
  },
  "language_info": {
   "file_extension": ".jl",
   "mimetype": "application/julia",
   "name": "julia",
   "version": "1.8.4"
  }
 },
 "nbformat": 4,
 "nbformat_minor": 5
}
