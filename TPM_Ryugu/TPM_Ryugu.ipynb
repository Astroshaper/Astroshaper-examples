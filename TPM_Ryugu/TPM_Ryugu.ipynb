{
 "cells": [
  {
   "cell_type": "markdown",
   "id": "dd690846",
   "metadata": {},
   "source": [
    "# Thermophysical modeling (TPM) of asteroid Ryugu"
   ]
  },
  {
   "cell_type": "markdown",
   "id": "9ecb0b76",
   "metadata": {},
   "source": [
    "## Load packages"
   ]
  },
  {
   "cell_type": "markdown",
   "id": "1637fc61",
   "metadata": {},
   "source": [
    "Install the necessary packages only for the first time."
   ]
  },
  {
   "cell_type": "code",
   "execution_count": null,
   "id": "321819e9",
   "metadata": {},
   "outputs": [],
   "source": [
    "# using Pkg\n",
    "# Pkg.add(\"SPICE\")\n",
    "# Pkg.add(\"Downloads\")\n",
    "# Pkg.add(\"StaticArrays\")\n",
    "# Pkg.add(\"Rotations\")\n",
    "# Pkg.add(\"CairoMakie\")\n",
    "\n",
    "# Pkg.add(url=\"https://github.com/Astroshaper/AsteroidThermoPhysicalModels.jl\")"
   ]
  },
  {
   "cell_type": "code",
   "execution_count": null,
   "id": "153d9e0c",
   "metadata": {},
   "outputs": [],
   "source": [
    "import AsteroidThermoPhysicalModels\n",
    "import SPICE\n",
    "\n",
    "using Downloads\n",
    "using StaticArrays\n",
    "using Rotations\n",
    "using CairoMakie\n",
    "\n",
    "include(\"../plot_shape.jl\");"
   ]
  },
  {
   "cell_type": "markdown",
   "id": "1ee114e7",
   "metadata": {},
   "source": [
    "## Download necessary files\n",
    "- SPICE kernels\n",
    "- Shape model"
   ]
  },
  {
   "cell_type": "code",
   "execution_count": null,
   "id": "b935d060",
   "metadata": {},
   "outputs": [],
   "source": [
    "paths_kernel = [\n",
    "    \"lsk/naif0012.tls\",\n",
    "    \"pck/hyb2_ryugu_shape_v20190328.tpc\",\n",
    "    \"fk/hyb2_ryugu_v01.tf\",\n",
    "    \"spk/2162173_Ryugu.bsp\",\n",
    "]\n",
    "\n",
    "paths_shape = [\n",
    "    \"SHAPE_SFM_49k_v20180804.obj\",\n",
    "]\n",
    "\n",
    "for path_kernel in paths_kernel\n",
    "    url_kernel = \"https://data.darts.isas.jaxa.jp/pub/hayabusa2/spice_bundle/spice_kernels/$(path_kernel)\"\n",
    "    filepath = joinpath(\"kernel\", path_kernel)\n",
    "    mkpath(dirname(filepath))\n",
    "    isfile(filepath) || Downloads.download(url_kernel, filepath)\n",
    "end\n",
    "\n",
    "for path_shape in paths_shape\n",
    "    url_shape = \"https://data.darts.isas.jaxa.jp/pub/hayabusa2/paper/Watanabe_2019/$(path_shape)\"\n",
    "    filepath = joinpath(\"shape\", path_shape)\n",
    "    mkpath(dirname(filepath))\n",
    "    isfile(filepath) || Downloads.download(url_shape, filepath)\n",
    "end"
   ]
  },
  {
   "cell_type": "markdown",
   "id": "2254bd2f",
   "metadata": {},
   "source": [
    "## Load SPICE kernels"
   ]
  },
  {
   "cell_type": "code",
   "execution_count": null,
   "id": "71ee97f9",
   "metadata": {},
   "outputs": [],
   "source": [
    "for path_kernel in paths_kernel\n",
    "    filepath = joinpath(\"kernel\", path_kernel)\n",
    "    SPICE.furnsh(filepath)\n",
    "end"
   ]
  },
  {
   "cell_type": "markdown",
   "id": "83738b61",
   "metadata": {},
   "source": [
    "Prepare ephemerides for TPM"
   ]
  },
  {
   "cell_type": "code",
   "execution_count": null,
   "id": "101f8405",
   "metadata": {},
   "outputs": [],
   "source": [
    "P = SPICE.convrt(7.63262, \"hours\", \"seconds\")  # Rotation period of Ryugu\n",
    "\n",
    "ncycles = 5  # Number of cycles to perform TPM\n",
    "nsteps_in_cycle = 360  # Number of time steps in one rotation period\n",
    "\n",
    "et_begin = SPICE.utc2et(\"2018-07-01T00:00:00\")  # Start time of TPM\n",
    "et_end   = et_begin + P * ncycles  # End time of TPM\n",
    "et_range = range(et_begin, et_end; length=nsteps_in_cycle*ncycles+1);"
   ]
  },
  {
   "cell_type": "code",
   "execution_count": null,
   "id": "4ebb0700",
   "metadata": {},
   "outputs": [],
   "source": [
    "\"\"\"\n",
    "Ephemerides data for input into TPM.\n",
    "\n",
    "- `time` : Ephemeris times\n",
    "- `sun`  : Sun's position in the RYUGU_FIXED frame\n",
    "\"\"\"\n",
    "ephem = (\n",
    "    time = collect(et_range),\n",
    "    sun  = [SVector{3}(SPICE.spkpos(\"SUN\", et, \"RYUGU_FIXED\", \"None\", \"RYUGU\")[1]) * 1000 for et in et_range],\n",
    ");"
   ]
  },
  {
   "cell_type": "markdown",
   "id": "47f731f5",
   "metadata": {},
   "source": [
    "Clear the SPICE kernels"
   ]
  },
  {
   "cell_type": "code",
   "execution_count": null,
   "id": "82f1e4c8",
   "metadata": {},
   "outputs": [],
   "source": [
    "SPICE.kclear()"
   ]
  },
  {
   "cell_type": "markdown",
   "id": "de29e27d",
   "metadata": {},
   "source": [
    "# Load a shape model\n",
    "The OBJ format is only supported."
   ]
  },
  {
   "cell_type": "code",
   "execution_count": null,
   "id": "0ff34614",
   "metadata": {},
   "outputs": [],
   "source": [
    "path_obj = joinpath(\"shape\", \"ryugu_test.obj\")  # Small model for test\n",
    "# path_obj = joinpath(\"shape\", \"SHAPE_SFM_49k_v20180804.obj\")"
   ]
  },
  {
   "cell_type": "code",
   "execution_count": null,
   "id": "62958a7e",
   "metadata": {},
   "outputs": [],
   "source": [
    "shape = AsteroidThermoPhysicalModels.load_shape_obj(path_obj; scale=1000, find_visible_facets=true)"
   ]
  },
  {
   "cell_type": "markdown",
   "id": "db9ab824",
   "metadata": {},
   "source": [
    "# TPM setup and execution"
   ]
  },
  {
   "cell_type": "markdown",
   "id": "646087fc",
   "metadata": {},
   "source": [
    "Thermal properties"
   ]
  },
  {
   "cell_type": "code",
   "execution_count": null,
   "id": "7cbe6368",
   "metadata": {},
   "outputs": [],
   "source": [
    "k  = 0.1     # Thermal conductivity\n",
    "ρ  = 1270.0  # Material density\n",
    "Cₚ = 600.0   # Heat capacity at constant pressure\n",
    "    \n",
    "l = AsteroidThermoPhysicalModels.thermal_skin_depth(P, k, ρ, Cₚ)  # Thermal skin depth\n",
    "Γ = AsteroidThermoPhysicalModels.thermal_inertia(k, ρ, Cₚ)        # Thermal inertia"
   ]
  },
  {
   "cell_type": "code",
   "execution_count": null,
   "id": "1d50a811",
   "metadata": {},
   "outputs": [],
   "source": [
    "thermo_params = AsteroidThermoPhysicalModels.thermoparams(\n",
    "    P       = P,     # Rotation period\n",
    "    l       = l,     # Thermal skin depth\n",
    "    Γ       = Γ,     # Thermal inertia\n",
    "    A_B     = 0.04,  # Bond albedo\n",
    "    A_TH    = 0.0,   # Albedo in thermal infrared\n",
    "    ε       = 1.0,   # Emissivity\n",
    "    z_max   = 0.6,   # Maximum depth to solve the 1-D heat conduction (Lower boundary)\n",
    "    Nz      = 61,    # Number of depth grid points to solve the 1-D heat conduction equation\n",
    ")"
   ]
  },
  {
   "cell_type": "markdown",
   "id": "88a0e044",
   "metadata": {},
   "source": [
    "Create a model for the single asteroid"
   ]
  },
  {
   "cell_type": "code",
   "execution_count": null,
   "id": "8b2217a0",
   "metadata": {},
   "outputs": [],
   "source": [
    "stpm = AsteroidThermoPhysicalModels.SingleTPM(shape, thermo_params;\n",
    "    SELF_SHADOWING = true,  # Enable self-shadowing, i.e., shadowing by local topography\n",
    "    SELF_HEATING   = true,  # Enable self-heating, i.e., energy exchange between interfacing facets\n",
    "    SOLVER         = AsteroidThermoPhysicalModels.ForwardEulerSolver(thermo_params),  # Solver for the 1-D heat conduction equation\n",
    "    BC_UPPER       = AsteroidThermoPhysicalModels.RadiationBoundaryCondition(),       # Upper boundary condition (surface layer)\n",
    "    BC_LOWER       = AsteroidThermoPhysicalModels.InsulationBoundaryCondition(),      # Lower boundary condition (bottom layer)\n",
    ");"
   ]
  },
  {
   "cell_type": "code",
   "execution_count": null,
   "id": "cb5612b1",
   "metadata": {},
   "outputs": [],
   "source": [
    "AsteroidThermoPhysicalModels.init_temperature!(stpm, 240);  # Intial temperature [K]"
   ]
  },
  {
   "cell_type": "markdown",
   "id": "45e0c00e",
   "metadata": {},
   "source": [
    "Run TPM"
   ]
  },
  {
   "cell_type": "code",
   "execution_count": null,
   "id": "e95fb74b",
   "metadata": {},
   "outputs": [],
   "source": [
    "times_to_save = ephem.time[end-nsteps_in_cycle:end]  # Save temperature during the final rotation\n",
    "face_ID = [1, 2, 3, 4, 10]  # Face indices to save subsurface temperature\n",
    "\n",
    "result = AsteroidThermoPhysicalModels.run_TPM!(stpm, ephem, times_to_save, face_ID; show_progress=false);"
   ]
  },
  {
   "cell_type": "markdown",
   "id": "2d9a2f78",
   "metadata": {},
   "source": [
    "Save TPM result"
   ]
  },
  {
   "cell_type": "code",
   "execution_count": null,
   "id": "713de874",
   "metadata": {},
   "outputs": [],
   "source": [
    "dirpath = \"./output\"\n",
    "mkpath(dirpath)\n",
    "AsteroidThermoPhysicalModels.export_TPM_results(dirpath, result)"
   ]
  },
  {
   "cell_type": "markdown",
   "id": "44f03531",
   "metadata": {},
   "source": [
    "# Data analysis and visualization"
   ]
  },
  {
   "cell_type": "markdown",
   "id": "f872017f",
   "metadata": {},
   "source": [
    "Plot the energy conservation ratio `E_cons` to check computational convergence.\n",
    "\n",
    "`E_cons` is defined as the ratio of the output energy to the input energy from the entire surface of the asteroid over one rotation.\n",
    "As the thermal calculation converges, `E_cons` approaches 1."
   ]
  },
  {
   "cell_type": "code",
   "execution_count": null,
   "id": "8798cbf0",
   "metadata": {},
   "outputs": [],
   "source": [
    "fig = Figure()\n",
    "ax = Axis(fig[1, 1],\n",
    "    xlabel = \"Time [h]\",\n",
    "    ylabel = \"E_cons [-]\",\n",
    ")\n",
    "\n",
    "xs = @. (ephem.time - ephem.time[begin]) / 3600  # Time since the beginning of TPM in unit of hour\n",
    "\n",
    "hlines!(ax, [1], color=:black, linestyle=:dash)\n",
    "scatterlines!(ax, xs, result.E_cons, markercolor=:blue, marker=:circle)\n",
    "\n",
    "display(fig)"
   ]
  },
  {
   "cell_type": "code",
   "execution_count": null,
   "id": "f6da4175",
   "metadata": {},
   "outputs": [],
   "source": [
    "plot_shape(shape; colorbar_title=\"Radius [m]\")"
   ]
  },
  {
   "cell_type": "code",
   "execution_count": null,
   "id": "967847a4",
   "metadata": {},
   "outputs": [],
   "source": [
    "plot_shape(shape;\n",
    "    title          = \"Temperature map at the final time step.\",\n",
    "    colorbar_title = \"Temperature [K]\",\n",
    "    intensity      = result.surface_temperature[:, end],\n",
    "    colorscale     = :thermal,\n",
    ")"
   ]
  },
  {
   "cell_type": "code",
   "execution_count": null,
   "id": "2973d99f",
   "metadata": {},
   "outputs": [],
   "source": []
  },
  {
   "cell_type": "code",
   "execution_count": null,
   "id": "9fd119d1",
   "metadata": {},
   "outputs": [],
   "source": []
  }
 ],
 "metadata": {
  "kernelspec": {
   "display_name": "Julia 1.10.2",
   "language": "julia",
   "name": "julia-1.10"
  },
  "language_info": {
   "file_extension": ".jl",
   "mimetype": "application/julia",
   "name": "julia",
   "version": "1.10.2"
  }
 },
 "nbformat": 4,
 "nbformat_minor": 5
}
