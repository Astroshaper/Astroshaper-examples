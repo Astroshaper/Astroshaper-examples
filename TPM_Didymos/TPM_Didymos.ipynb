{
 "cells": [
  {
   "cell_type": "markdown",
   "id": "9ecb0b76",
   "metadata": {},
   "source": [
    "# Load packages"
   ]
  },
  {
   "cell_type": "code",
   "execution_count": null,
   "id": "153d9e0c",
   "metadata": {},
   "outputs": [],
   "source": [
    "import Astroshaper\n",
    "# import GLMakie\n",
    "import JLD2\n",
    "import SPICE\n",
    "import Downloads\n",
    "import Statistics\n",
    "import Git"
   ]
  },
  {
   "cell_type": "markdown",
   "id": "1ee114e7",
   "metadata": {},
   "source": [
    "# Download files"
   ]
  },
  {
   "cell_type": "code",
   "execution_count": null,
   "id": "60cdf6b6",
   "metadata": {},
   "outputs": [],
   "source": [
    "path_meta_new = \"hera_study_PO_EMA_2024.tm\"\n",
    "if !isfile(path_meta_new)\n",
    "    # Dowonload files for SPICE\n",
    "    run(Git.git([\"clone\", \"https://s2e2.cosmos.esa.int/bitbucket/scm/spice_kernels/hera.git\"]))\n",
    "\n",
    "    # Update path\n",
    "    path_meta_old = \"hera/kernels/mk/hera_study_PO_EMA_2024.tm\"\n",
    "    cp(path_meta_old, path_meta_new, force=true)\n",
    "    script = read(path_meta_new, String)\n",
    "    script = replace(script, \"PATH_VALUES       = ( '..' )\"=>\"PATH_VALUES     = ('$(abspath(joinpath(\"hera\", \"kernels\")))')\")\n",
    "    write(path_meta_new, script)\n",
    "end"
   ]
  },
  {
   "cell_type": "markdown",
   "id": "2254bd2f",
   "metadata": {},
   "source": [
    "# Load data with SPICE"
   ]
  },
  {
   "cell_type": "code",
   "execution_count": null,
   "id": "e7fc8c55",
   "metadata": {},
   "outputs": [],
   "source": [
    "SPICE.furnsh(path_meta_new)\n",
    "et_start = SPICE.utc2et(\"2027-02-18T00:00:00\")\n",
    "et_end   = SPICE.utc2et(\"2027-02-19T00:00:00\")\n",
    "step     = 300\n",
    "et_range = et_start : step : et_end\n",
    "@show et_range\n",
    "@show length(et_range)\n",
    "\n",
    "# Indices of et_range to be saved.\n",
    "# Save only the last rotation.\n",
    "save_range = findall(et_range .> et_range[end] - 7.63262 * 3600)\n",
    "@show save_range[begin]\n",
    "@show save_range[end]\n",
    "@show length(save_range)\n",
    "\n",
    "# Position \n",
    "sun_d1 = [SPICE.spkpos(\"SUN\", et, \"DIDYMOS_FIXED\", \"None\", \"DIDYMOS\")[1]*1000 for et in et_range]\n",
    "sun_d2 = [SPICE.spkpos(\"SUN\", et, \"DIMORPHOS_FIXED\", \"None\", \"DIMORPHOS\")[1]*1000 for et in et_range]\n",
    "d1_d2 = [SPICE.spkpos(\"DIDYMOS\", et, \"DIMORPHOS_FIXED\", \"None\", \"DIMORPHOS\")[1]*1000 for et in et_range]\n",
    "d2_d1 = [SPICE.spkpos(\"DIMORPHOS\", et, \"DIDYMOS_FIXED\", \"None\", \"DIDYMOS\")[1]*1000 for et in et_range]\n",
    "# Transformation matrix\n",
    "D1_TO_D2 = [SPICE.pxform(\"DIDYMOS_FIXED\", \"DIMORPHOS_FIXED\", et) for et in et_range]\n",
    "D2_TO_D1 = [SPICE.pxform(\"DIMORPHOS_FIXED\", \"DIDYMOS_FIXED\", et) for et in et_range]\n",
    "D1_TO_J2000 = [SPICE.pxform(\"DIDYMOS_FIXED\", \"J2000\", et) for et in et_range]\n",
    "D2_TO_J2000 = [SPICE.pxform(\"DIMORPHOS_FIXED\", \"J2000\", et) for et in et_range]\n",
    "SPICE.kclear()"
   ]
  },
  {
   "cell_type": "markdown",
   "id": "de29e27d",
   "metadata": {},
   "source": [
    "# Load obj file"
   ]
  },
  {
   "cell_type": "code",
   "execution_count": null,
   "id": "0ff34614",
   "metadata": {},
   "outputs": [],
   "source": [
    "path_shape1_obj = \"g_50677mm_rad_obj_dida_0000n00000_v001.obj\"\n",
    "path_shape2_obj = \"g_06650mm_rad_obj_didb_0000n00000_v001.obj\"\n",
    "path_shape1_jld = \"g_50677mm_rad_obj_dida_0000n00000_v001.jld2\"\n",
    "path_shape2_jld = \"g_06650mm_rad_obj_didb_0000n00000_v001.jld2\"\n",
    "\n",
    "cp(joinpath(\"hera\", \"kernels\", \"dsk\", \"g_50677mm_rad_obj_dida_0000n00000_v001.obj\"), path_shape1_obj, force=true)\n",
    "cp(joinpath(\"hera\", \"kernels\", \"dsk\", \"g_06650mm_rad_obj_didb_0000n00000_v001.obj\"), path_shape2_obj, force=true)\n",
    "\n",
    "if isfile(path_shape1_jld)\n",
    "    shape1 = Astroshaper.ShapeModel(path_shape1_jld; scale=1000, find_visible_facets=true, save_shape=true)\n",
    "else\n",
    "    shape1 = Astroshaper.ShapeModel(path_shape1_obj; scale=1000, find_visible_facets=true, save_shape=true)\n",
    "end\n",
    "if isfile(path_shape2_jld)\n",
    "    shape2 = Astroshaper.ShapeModel(path_shape2_jld; scale=1000, find_visible_facets=true, save_shape=true)\n",
    "else\n",
    "    shape2 = Astroshaper.ShapeModel(path_shape2_obj; scale=1000, find_visible_facets=true, save_shape=true)\n",
    "end"
   ]
  },
  {
   "cell_type": "markdown",
   "id": "db9ab824",
   "metadata": {},
   "source": [
    "# TPM"
   ]
  },
  {
   "cell_type": "code",
   "execution_count": null,
   "id": "7cbe6368",
   "metadata": {},
   "outputs": [],
   "source": [
    "thermo_params = Astroshaper.ThermoParams(  # [Michel+2016; Naidu+2020]\n",
    "    A_B   = 0.059,  # Bolometric Bond albedo\n",
    "    A_TH  = 0.0,\n",
    "    k     = 0.125,\n",
    "    ρ     = 2170.,\n",
    "    Cp    = 600.,\n",
    "    ϵ     = 0.9,\n",
    "    t_bgn = et_range[begin],\n",
    "    t_end = et_range[end],\n",
    "    Nt    = length(et_range),\n",
    "    z_max = 0.6,\n",
    "    Nz    = 41,\n",
    "    P     = SPICE.convrt(Astroshaper.DIDYMOS[:P], \"hours\", \"seconds\"),\n",
    ");"
   ]
  },
  {
   "cell_type": "code",
   "execution_count": null,
   "id": "8b2217a0",
   "metadata": {},
   "outputs": [],
   "source": [
    "Astroshaper.init_temps_zero!(shape1, thermo_params)\n",
    "Astroshaper.init_temps_zero!(shape2, thermo_params)\n",
    "\n",
    "# Run TPM and save the result\n",
    "savepath = \"TPM_Didymos.jld2\"\n",
    "shapes = (shape1, shape2)\n",
    "suns = (sun_d1, sun_d2)\n",
    "Astroshaper.run_TPM!(shapes, et_range, suns, D2_TO_D1, d2_d1, thermo_params, savepath, [:surf_temps, :forces, :torques])"
   ]
  },
  {
   "cell_type": "markdown",
   "id": "44f03531",
   "metadata": {},
   "source": [
    "# Visualize the result"
   ]
  },
  {
   "cell_type": "code",
   "execution_count": null,
   "id": "1c3f6cb0",
   "metadata": {},
   "outputs": [],
   "source": [
    "# TODO"
   ]
  }
 ],
 "metadata": {
  "kernelspec": {
   "display_name": "Julia 1.8.0",
   "language": "julia",
   "name": "julia-1.8"
  },
  "language_info": {
   "file_extension": ".jl",
   "mimetype": "application/julia",
   "name": "julia",
   "version": "1.8.0"
  }
 },
 "nbformat": 4,
 "nbformat_minor": 5
}
