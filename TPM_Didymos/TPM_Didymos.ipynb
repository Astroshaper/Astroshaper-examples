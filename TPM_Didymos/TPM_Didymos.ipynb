{
 "cells": [
  {
   "cell_type": "markdown",
   "id": "45931ec5",
   "metadata": {},
   "source": [
    "# Thermophysical modeling (TPM) of asteroid Didymos"
   ]
  },
  {
   "cell_type": "markdown",
   "id": "9ecb0b76",
   "metadata": {},
   "source": [
    "## Load packages"
   ]
  },
  {
   "cell_type": "markdown",
   "id": "778d4599",
   "metadata": {},
   "source": [
    "Install the necessary packages only for the first time."
   ]
  },
  {
   "cell_type": "code",
   "execution_count": null,
   "id": "46c3810a",
   "metadata": {},
   "outputs": [],
   "source": [
    "# using Pkg\n",
    "# Pkg.add(\"SPICE\")\n",
    "# Pkg.add(\"Downloads\")\n",
    "# Pkg.add(\"StaticArrays\")\n",
    "# Pkg.add(\"Rotations\")\n",
    "# Pkg.add(\"CairoMakie\")\n",
    "\n",
    "# Pkg.add(url=\"https://github.com/Astroshaper/AsteroidThermoPhysicalModels.jl\")"
   ]
  },
  {
   "cell_type": "code",
   "execution_count": null,
   "id": "153d9e0c",
   "metadata": {},
   "outputs": [],
   "source": [
    "import AsteroidThermoPhysicalModels\n",
    "import SPICE\n",
    "\n",
    "using Downloads\n",
    "using StaticArrays\n",
    "using Rotations\n",
    "using CairoMakie\n",
    "\n",
    "include(\"../plot_shape.jl\");"
   ]
  },
  {
   "cell_type": "markdown",
   "id": "1ee114e7",
   "metadata": {},
   "source": [
    "## Download necessary files\n",
    "- SPICE kernels\n",
    "- Shape models"
   ]
  },
  {
   "cell_type": "code",
   "execution_count": null,
   "id": "6dc5074a",
   "metadata": {},
   "outputs": [],
   "source": [
    "##= SPICE kernels =##\n",
    "paths_kernel = [\n",
    "    \"fk/hera_v10.tf\",\n",
    "    \"lsk/naif0012.tls\",\n",
    "    \"pck/hera_didymos_v06.tpc\",\n",
    "    \"spk/de432s.bsp\",\n",
    "    \"spk/didymos_hor_000101_500101_v01.bsp\",\n",
    "    \"spk/didymos_gmv_260901_311001_v01.bsp\",\n",
    "]\n",
    "\n",
    "##= Shape models =##\n",
    "paths_shape = [\n",
    "    \"g_50677mm_rad_obj_didy_0000n00000_v001.obj\",\n",
    "    \"g_08438mm_lgt_obj_dimo_0000n00000_v002.obj\",\n",
    "]\n",
    "\n",
    "##= Download SPICE kernels =##\n",
    "for path_kernel in paths_kernel\n",
    "    url_kernel = \"https://s2e2.cosmos.esa.int/bitbucket/projects/SPICE_KERNELS/repos/hera/raw/kernels/$(path_kernel)\"\n",
    "    filepath = joinpath(\"kernel\", path_kernel)\n",
    "    mkpath(dirname(filepath))\n",
    "    isfile(filepath) || Downloads.download(url_kernel, filepath)\n",
    "end\n",
    "\n",
    "##= Download shape models =##\n",
    "for path_shape in paths_shape\n",
    "    url_kernel = \"https://s2e2.cosmos.esa.int/bitbucket/projects/SPICE_KERNELS/repos/hera/raw/kernels/dsk/$(path_shape)\"\n",
    "    filepath = joinpath(\"shape\", path_shape)\n",
    "    mkpath(dirname(filepath))\n",
    "    isfile(filepath) || Downloads.download(url_kernel, filepath)\n",
    "end"
   ]
  },
  {
   "cell_type": "markdown",
   "id": "2254bd2f",
   "metadata": {},
   "source": [
    "## Load SPICE kernels"
   ]
  },
  {
   "cell_type": "code",
   "execution_count": null,
   "id": "bd70c462",
   "metadata": {},
   "outputs": [],
   "source": [
    "for path_kernel in paths_kernel\n",
    "    filepath = joinpath(\"kernel\", path_kernel)\n",
    "    SPICE.furnsh(filepath)\n",
    "end"
   ]
  },
  {
   "cell_type": "markdown",
   "id": "d6eb6ab7",
   "metadata": {},
   "source": [
    "Prepare ephemerides for TPM"
   ]
  },
  {
   "cell_type": "code",
   "execution_count": null,
   "id": "3a08d2ce",
   "metadata": {},
   "outputs": [],
   "source": [
    "P₁ = SPICE.convrt(2.2593, \"hours\", \"seconds\")  # Rotation period of Didymos\n",
    "P₂ = SPICE.convrt(11.93 , \"hours\", \"seconds\")  # Rotation period of Dimorphos\n",
    "\n",
    "ncycles = 5  # Number of cycles to perform TPM\n",
    "nsteps_in_cycle = 360  # Number of time steps in one rotation period\n",
    "\n",
    "et_begin = SPICE.utc2et(\"2027-02-18T00:00:00\")  # Start time of TPM\n",
    "et_end   = et_begin + P₂ * ncycles  # End time of TPM\n",
    "et_range = range(et_begin, et_end; length=nsteps_in_cycle*ncycles+1);"
   ]
  },
  {
   "cell_type": "code",
   "execution_count": null,
   "id": "75432e78",
   "metadata": {},
   "outputs": [],
   "source": [
    "\"\"\"\n",
    "Ephemerides data for input into a binary TPM,\n",
    "including position vectors and rotation matrices depending on the time steps.\n",
    "\n",
    "- `time` : Ephemeris times\n",
    "- `sun1` : Sun's position in the primary's frame (DIDYMOS_FIXED)\n",
    "- `sun2` : Sun's position in the secondary's frame (DIMORPHOS_FIXED)\n",
    "- `sec`  : Secondary's position in the primary's frame (DIDYMOS_FIXED)\n",
    "- `P2S`  : Rotation matrix from primary to secondary frames\n",
    "- `S2P`  : Rotation matrix from secondary to primary frames\n",
    "\"\"\"\n",
    "ephem = (\n",
    "    time = collect(et_range),\n",
    "    sun1 = [SVector{3}(SPICE.spkpos(\"SUN\"      , et, \"DIDYMOS_FIXED\"  , \"None\", \"DIDYMOS\"  )[1]) * 1000 for et in et_range],\n",
    "    sun2 = [SVector{3}(SPICE.spkpos(\"SUN\"      , et, \"DIMORPHOS_FIXED\", \"None\", \"DIMORPHOS\")[1]) * 1000 for et in et_range],\n",
    "    sec  = [SVector{3}(SPICE.spkpos(\"DIMORPHOS\", et, \"DIDYMOS_FIXED\"  , \"None\", \"DIDYMOS\"  )[1]) * 1000 for et in et_range],\n",
    "    P2S  = [RotMatrix{3}(SPICE.pxform(\"DIDYMOS_FIXED\"  , \"DIMORPHOS_FIXED\", et)) for et in et_range],\n",
    "    S2P  = [RotMatrix{3}(SPICE.pxform(\"DIMORPHOS_FIXED\", \"DIDYMOS_FIXED\"  , et)) for et in et_range],\n",
    ");"
   ]
  },
  {
   "cell_type": "markdown",
   "id": "f53c8255",
   "metadata": {},
   "source": [
    "Clear the SPICE kernels"
   ]
  },
  {
   "cell_type": "code",
   "execution_count": null,
   "id": "e7fc8c55",
   "metadata": {},
   "outputs": [],
   "source": [
    "SPICE.kclear()"
   ]
  },
  {
   "cell_type": "markdown",
   "id": "de29e27d",
   "metadata": {},
   "source": [
    "# Load shape models\n",
    "The OBJ format is only supported."
   ]
  },
  {
   "cell_type": "code",
   "execution_count": null,
   "id": "0ff34614",
   "metadata": {},
   "outputs": [],
   "source": [
    "path_shape1_obj = joinpath(\"shape\", \"g_50677mm_rad_obj_didy_0000n00000_v001.obj\")\n",
    "path_shape2_obj = joinpath(\"shape\", \"g_08438mm_lgt_obj_dimo_0000n00000_v002.obj\")\n",
    "\n",
    "shape1 = AsteroidThermoPhysicalModels.load_shape_obj(path_shape1_obj; scale=1000, find_visible_facets=true)\n",
    "shape2 = AsteroidThermoPhysicalModels.load_shape_obj(path_shape2_obj; scale=1000, find_visible_facets=true)\n",
    "\n",
    "println(shape1)  # Didymos shape model\n",
    "println(shape2)  # Dimorphos shape model"
   ]
  },
  {
   "cell_type": "markdown",
   "id": "db9ab824",
   "metadata": {},
   "source": [
    "# TPM setup and execution"
   ]
  },
  {
   "cell_type": "markdown",
   "id": "ed1d48a2",
   "metadata": {},
   "source": [
    "Thermal properties of Didymos and Dimorphos [Michel+2016; Naidu+2020]"
   ]
  },
  {
   "cell_type": "code",
   "execution_count": null,
   "id": "7cbe6368",
   "metadata": {},
   "outputs": [],
   "source": [
    "k  = 0.125   # Thermal conductivity\n",
    "ρ  = 2170.0  # Material density\n",
    "Cₚ = 600.0   # Heat capacity at constant pressure\n",
    "\n",
    "l₁ = AsteroidThermoPhysicalModels.thermal_skin_depth(P₁, k, ρ, Cₚ)  # Thermal skin depth of Didymos\n",
    "l₂ = AsteroidThermoPhysicalModels.thermal_skin_depth(P₂, k, ρ, Cₚ)  # Thermal skin depth of Dimorphos\n",
    "Γ₁ = AsteroidThermoPhysicalModels.thermal_inertia(k, ρ, Cₚ);        # Thermal inertia of Didymos\n",
    "Γ₂ = AsteroidThermoPhysicalModels.thermal_inertia(k, ρ, Cₚ);        # Thermal inertia of Dimorphos"
   ]
  },
  {
   "cell_type": "markdown",
   "id": "8bd41b18",
   "metadata": {},
   "source": [
    "Thermal properties of Didymos "
   ]
  },
  {
   "cell_type": "code",
   "execution_count": null,
   "id": "54c74610",
   "metadata": {},
   "outputs": [],
   "source": [
    "thermo_params1 = AsteroidThermoPhysicalModels.thermoparams(\n",
    "    P       = P₁,     # Rotation period\n",
    "    l       = l₁,     # Thermal skin depth\n",
    "    Γ       = Γ₁,      # Thermal inertia\n",
    "    A_B     = 0.059,  # Bond albedo\n",
    "    A_TH    = 0.0,    # Albedo in thermal infrared\n",
    "    ε       = 0.9,    # Emissivity\n",
    "    z_max   = 0.6,    # Maximum depth to solve the 1-D heat conduction (Lower boundary)\n",
    "    Nz      = 61,     # Number of depth grid points to solve the 1-D heat conduction equation\n",
    ")"
   ]
  },
  {
   "cell_type": "markdown",
   "id": "f1f3005b",
   "metadata": {},
   "source": [
    "Thermal properties of Dimorphos"
   ]
  },
  {
   "cell_type": "code",
   "execution_count": null,
   "id": "2200ebd7",
   "metadata": {},
   "outputs": [],
   "source": [
    "thermo_params2 = AsteroidThermoPhysicalModels.thermoparams(\n",
    "    P       = P₂,\n",
    "    l       = l₂,\n",
    "    Γ       = Γ₂,\n",
    "    A_B     = 0.059,\n",
    "    A_TH    = 0.0,\n",
    "    ε       = 0.9,\n",
    "    z_max   = 0.6,\n",
    "    Nz      = 61,\n",
    ")"
   ]
  },
  {
   "cell_type": "markdown",
   "id": "7fbf3a0e",
   "metadata": {},
   "source": [
    "Create a model for the binary asteroid"
   ]
  },
  {
   "cell_type": "code",
   "execution_count": null,
   "id": "38099a8d",
   "metadata": {},
   "outputs": [],
   "source": [
    "## TPM for Didymos\n",
    "stpm1 = AsteroidThermoPhysicalModels.SingleTPM(shape1, thermo_params1;\n",
    "    SELF_SHADOWING = true,  # Enable self-shadowing, i.e., shadowing by local topography\n",
    "    SELF_HEATING   = true,  # Enable self-heating, i.e., energy exchange between interfacing facets\n",
    "    SOLVER         = AsteroidThermoPhysicalModels.ForwardEulerSolver(thermo_params1),  # Solver for the 1-D heat conduction equation\n",
    "    BC_UPPER       = AsteroidThermoPhysicalModels.RadiationBoundaryCondition(),        # Upper boundary condition (surface layer)\n",
    "    BC_LOWER       = AsteroidThermoPhysicalModels.InsulationBoundaryCondition(),       # Lower boundary condition (bottom layer)\n",
    ")\n",
    "\n",
    "## TPM for Dimorphos\n",
    "stpm2 = AsteroidThermoPhysicalModels.SingleTPM(shape2, thermo_params2;\n",
    "    SELF_SHADOWING = true,\n",
    "    SELF_HEATING   = true,\n",
    "    SOLVER         = AsteroidThermoPhysicalModels.ForwardEulerSolver(thermo_params2),\n",
    "    BC_UPPER       = AsteroidThermoPhysicalModels.RadiationBoundaryCondition(),\n",
    "    BC_LOWER       = AsteroidThermoPhysicalModels.InsulationBoundaryCondition(),\n",
    ")\n",
    "\n",
    "## Combine them to create a binary TPM\n",
    "btpm = AsteroidThermoPhysicalModels.BinaryTPM(stpm1, stpm2;\n",
    "    MUTUAL_SHADOWING = true,   # Enable mutual shadowing, i.e., shadowing by the binary pair (eclipse)\n",
    "    MUTUAL_HEATING   = false,  # Enable mutual heating, i.e., energy exchange between the binary pair, taking much time for computation\n",
    ");"
   ]
  },
  {
   "cell_type": "code",
   "execution_count": null,
   "id": "1c292580",
   "metadata": {},
   "outputs": [],
   "source": [
    "AsteroidThermoPhysicalModels.init_temperature!(btpm, 240);  # Intial temperature [K]"
   ]
  },
  {
   "cell_type": "markdown",
   "id": "0ccca087",
   "metadata": {},
   "source": [
    "Run TPM"
   ]
  },
  {
   "cell_type": "code",
   "execution_count": null,
   "id": "8b2217a0",
   "metadata": {},
   "outputs": [],
   "source": [
    "times_to_save = ephem.time[end-nsteps_in_cycle:end]  # Save temperature during the final rotation\n",
    "face_ID_pri = [1, 2, 3, 4, 10]  # Face indices to save subsurface temperature of Didymos\n",
    "face_ID_sec = [1, 2, 3, 4, 20]  # Face indices to save subsurface temperature of Dimorphos\n",
    "\n",
    "result = AsteroidThermoPhysicalModels.run_TPM!(btpm, ephem, times_to_save, face_ID_pri, face_ID_sec; show_progress=false);"
   ]
  },
  {
   "cell_type": "markdown",
   "id": "2e1d0747",
   "metadata": {},
   "source": [
    "Save TPM result"
   ]
  },
  {
   "cell_type": "code",
   "execution_count": null,
   "id": "3c9abcf4",
   "metadata": {},
   "outputs": [],
   "source": [
    "dirpath = \"./\"\n",
    "AsteroidThermoPhysicalModels.export_TPM_results(dirpath, result)"
   ]
  },
  {
   "cell_type": "markdown",
   "id": "75119818",
   "metadata": {},
   "source": [
    "# Data analysis and visualization"
   ]
  },
  {
   "cell_type": "markdown",
   "id": "9d5b8df9",
   "metadata": {},
   "source": [
    "Plot the energy conservation ratio `E_cons` to check computational convergence.\n",
    "\n",
    "`E_cons` is defined as the ratio of the output energy to the input energy from the entire surface of the asteroid over one rotation.\n",
    "As the thermal calculation converges, `E_cons` approaches 1."
   ]
  },
  {
   "cell_type": "code",
   "execution_count": null,
   "id": "f2d38e02",
   "metadata": {},
   "outputs": [],
   "source": [
    "fig = Figure()\n",
    "ax = Axis(fig[1, 1],\n",
    "    xlabel = \"Time [h]\",\n",
    "    ylabel = \"E_cons [-]\",\n",
    ")\n",
    "\n",
    "xs = @. (ephem.time - ephem.time[begin]) / 3600  # Time since the beginning of TPM in unit of hour\n",
    "\n",
    "hlines!(ax, [1], color=:black, linestyle=:dash)\n",
    "scatterlines!(ax, xs, result.pri.E_cons, marker=:circle, markercolor=:blue,   label=\"Didymos\")\n",
    "scatterlines!(ax, xs, result.sec.E_cons, marker=:circle, markercolor=:orange, label=\"Dimorphos\")\n",
    "\n",
    "axislegend(ax, position=:rb)\n",
    "\n",
    "display(fig)"
   ]
  },
  {
   "cell_type": "code",
   "execution_count": null,
   "id": "d1ec987e",
   "metadata": {},
   "outputs": [],
   "source": [
    "plot_shape(shape1; colorbar_title=\"Radius [m]\")  # Plot Didymos shape"
   ]
  },
  {
   "cell_type": "code",
   "execution_count": null,
   "id": "ae235778",
   "metadata": {},
   "outputs": [],
   "source": [
    "plot_shape(shape2; colorbar_title=\"Radius [m]\")  # Plot Dimorphos shape"
   ]
  },
  {
   "cell_type": "code",
   "execution_count": null,
   "id": "c88f5f5e",
   "metadata": {},
   "outputs": [],
   "source": [
    "plot_shape(shape1;\n",
    "    title          = \"Temperature map at Didymos eclipse.\",\n",
    "    colorbar_title = \"Temperature [K]\",\n",
    "    intensity      = result.pri.surface_temperature[:, end-126],\n",
    "    colorscale     = :thermal,\n",
    ")"
   ]
  },
  {
   "cell_type": "code",
   "execution_count": null,
   "id": "74401a8a",
   "metadata": {},
   "outputs": [],
   "source": [
    "plot_shape(shape2;\n",
    "    title          = \"Temperature map at Dimorphos eclipse.\",\n",
    "    colorbar_title = \"Temperature [K]\",\n",
    "    intensity      = result.sec.surface_temperature[:, 70],\n",
    "    colorscale     = :thermal,\n",
    ")"
   ]
  },
  {
   "cell_type": "code",
   "execution_count": null,
   "id": "f46cda99",
   "metadata": {},
   "outputs": [],
   "source": []
  },
  {
   "cell_type": "code",
   "execution_count": null,
   "id": "50e508c0",
   "metadata": {},
   "outputs": [],
   "source": []
  }
 ],
 "metadata": {
  "kernelspec": {
   "display_name": "Julia 1.10.0",
   "language": "julia",
   "name": "julia-1.10"
  },
  "language_info": {
   "file_extension": ".jl",
   "mimetype": "application/julia",
   "name": "julia",
   "version": "1.10.0"
  }
 },
 "nbformat": 4,
 "nbformat_minor": 5
}
