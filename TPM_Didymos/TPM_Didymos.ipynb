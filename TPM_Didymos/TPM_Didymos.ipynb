{
 "cells": [
  {
   "cell_type": "markdown",
   "id": "9ecb0b76",
   "metadata": {},
   "source": [
    "# Load packages"
   ]
  },
  {
   "cell_type": "code",
   "execution_count": null,
   "id": "153d9e0c",
   "metadata": {},
   "outputs": [],
   "source": [
    "import AsteroidThermoPhysicalModels\n",
    "import GLMakie\n",
    "import JLD2\n",
    "import SPICE\n",
    "import Downloads\n",
    "import Statistics\n",
    "import Git\n",
    "using LinearAlgebra\n",
    "import ScatteredInterpolation"
   ]
  },
  {
   "cell_type": "markdown",
   "id": "1ee114e7",
   "metadata": {},
   "source": [
    "# Download files"
   ]
  },
  {
   "cell_type": "code",
   "execution_count": null,
   "id": "6dc5074a",
   "metadata": {},
   "outputs": [],
   "source": [
    "paths_kernel = [\n",
    "    \"fk/hera_v07.tf\",\n",
    "    \"lsk/naif0012.tls\",\n",
    "    \"pck/hera_didymos_v05.tpc\",\n",
    "    \"spk/de432s.bsp\",\n",
    "    \"spk/didymos_hor_000101_500101_v01.bsp\",\n",
    "    \"spk/didymos_gmv_260901_311001_v01.bsp\",\n",
    "]\n",
    "paths_shape = [\n",
    "    \"g_50677mm_rad_obj_dida_0000n00000_v001.obj\",\n",
    "    \"g_06650mm_rad_obj_didb_0000n00000_v001.obj\",\n",
    "]\n",
    "\n",
    "for path_kernel in paths_kernel\n",
    "    url_kernel = \"https://s2e2.cosmos.esa.int/bitbucket/projects/SPICE_KERNELS/repos/hera/raw/kernels/$(path_kernel)\"\n",
    "    filepath = joinpath(\"kernel\", path_kernel)\n",
    "    mkpath(dirname(filepath))\n",
    "    isfile(filepath) || Downloads.download(url_kernel, filepath)\n",
    "end\n",
    "for path_shape in paths_shape\n",
    "    url_kernel = \"https://s2e2.cosmos.esa.int/bitbucket/projects/SPICE_KERNELS/repos/hera/raw/kernels/dsk/$(path_shape)\"\n",
    "    filepath = joinpath(\"shape\", path_shape)\n",
    "    mkpath(dirname(filepath))\n",
    "    isfile(filepath) || Downloads.download(url_kernel, filepath)\n",
    "end"
   ]
  },
  {
   "cell_type": "markdown",
   "id": "2254bd2f",
   "metadata": {},
   "source": [
    "# Load data with SPICE"
   ]
  },
  {
   "cell_type": "code",
   "execution_count": null,
   "id": "e7fc8c55",
   "metadata": {},
   "outputs": [],
   "source": [
    "for path_kernel in paths_kernel\n",
    "    filepath = joinpath(\"Didymos\", \"kernel\", path_kernel)\n",
    "    SPICE.furnsh(filepath)\n",
    "end\n",
    "et_start = SPICE.utc2et(\"2027-02-18T00:00:00\")\n",
    "et_end   = SPICE.utc2et(\"2027-02-19T00:00:00\")\n",
    "step     = 300\n",
    "et_range = et_start : step : et_end\n",
    "@show et_range\n",
    "@show length(et_range)\n",
    "\n",
    "# Indices of et_range to be saved.\n",
    "# Save only the last rotation.\n",
    "save_range = findall(et_range .> et_range[end] - 7.63262 * 3600)\n",
    "@show save_range[begin]\n",
    "@show save_range[end]\n",
    "@show length(save_range)\n",
    "\n",
    "# Position \n",
    "sun_d1 = [SPICE.spkpos(\"SUN\", et, \"DIDYMOS_FIXED\", \"None\", \"DIDYMOS\")[1]*1000 for et in et_range]\n",
    "sun_d2 = [SPICE.spkpos(\"SUN\", et, \"DIMORPHOS_FIXED\", \"None\", \"DIMORPHOS\")[1]*1000 for et in et_range]\n",
    "d1_d2 = [SPICE.spkpos(\"DIDYMOS\", et, \"DIMORPHOS_FIXED\", \"None\", \"DIMORPHOS\")[1]*1000 for et in et_range]\n",
    "d2_d1 = [SPICE.spkpos(\"DIMORPHOS\", et, \"DIDYMOS_FIXED\", \"None\", \"DIDYMOS\")[1]*1000 for et in et_range]\n",
    "# Transformation matrix\n",
    "D1_TO_D2 = [SPICE.pxform(\"DIDYMOS_FIXED\", \"DIMORPHOS_FIXED\", et) for et in et_range]\n",
    "D2_TO_D1 = [SPICE.pxform(\"DIMORPHOS_FIXED\", \"DIDYMOS_FIXED\", et) for et in et_range]\n",
    "D1_TO_J2000 = [SPICE.pxform(\"DIDYMOS_FIXED\", \"J2000\", et) for et in et_range]\n",
    "D2_TO_J2000 = [SPICE.pxform(\"DIMORPHOS_FIXED\", \"J2000\", et) for et in et_range]\n",
    "\n",
    "SPICE.kclear()"
   ]
  },
  {
   "cell_type": "markdown",
   "id": "de29e27d",
   "metadata": {},
   "source": [
    "# Load obj file"
   ]
  },
  {
   "cell_type": "code",
   "execution_count": null,
   "id": "0ff34614",
   "metadata": {},
   "outputs": [],
   "source": [
    "path_shape1_obj = joinpath(\"shape\", \"g_50677mm_rad_obj_dida_0000n00000_v001.obj\")\n",
    "path_shape2_obj = joinpath(\"shape\", \"g_06650mm_rad_obj_didb_0000n00000_v001.obj\")\n",
    "path_shape1_jld = joinpath(\"shape\", \"g_50677mm_rad_obj_dida_0000n00000_v001.jld2\")\n",
    "path_shape2_jld = joinpath(\"shape\", \"g_06650mm_rad_obj_didb_0000n00000_v001.jld2\")\n",
    "\n",
    "if isfile(path_shape1_jld)\n",
    "    shape1 = AsteroidThermoPhysicalModels.ShapeModel(path_shape1_jld; scale=1000, find_visible_facets=true, save_shape=true)\n",
    "else\n",
    "    shape1 = AsteroidThermoPhysicalModels.ShapeModel(path_shape1_obj; scale=1000, find_visible_facets=true, save_shape=true)\n",
    "end\n",
    "if isfile(path_shape2_jld)\n",
    "    shape2 = AsteroidThermoPhysicalModels.ShapeModel(path_shape2_jld; scale=1000, find_visible_facets=true, save_shape=true)\n",
    "else\n",
    "    shape2 = AsteroidThermoPhysicalModels.ShapeModel(path_shape2_obj; scale=1000, find_visible_facets=true, save_shape=true)\n",
    "end"
   ]
  },
  {
   "cell_type": "markdown",
   "id": "db9ab824",
   "metadata": {},
   "source": [
    "# TPM"
   ]
  },
  {
   "cell_type": "code",
   "execution_count": null,
   "id": "7cbe6368",
   "metadata": {},
   "outputs": [],
   "source": [
    "thermo_params = AsteroidThermoPhysicalModels.ThermoParams(  # [Michel+2016; Naidu+2020]\n",
    "    A_B   = 0.059,  # Bolometric Bond albedo\n",
    "    A_TH  = 0.0,\n",
    "    k     = 0.125,\n",
    "    ρ     = 2170.,\n",
    "    Cp    = 600.,\n",
    "    ϵ     = 0.9,\n",
    "    t_bgn = et_range[begin],\n",
    "    t_end = et_range[end],\n",
    "    Nt    = length(et_range),\n",
    "    z_max = 0.6,\n",
    "    Nz    = 41,\n",
    "    P     = SPICE.convrt(AsteroidThermoPhysicalModels.DIDYMOS[:P], \"hours\", \"seconds\"),\n",
    ");"
   ]
  },
  {
   "cell_type": "code",
   "execution_count": null,
   "id": "8b2217a0",
   "metadata": {},
   "outputs": [],
   "source": [
    "AsteroidThermoPhysicalModels.init_temps_zero!(shape1, thermo_params)\n",
    "AsteroidThermoPhysicalModels.init_temps_zero!(shape2, thermo_params)\n",
    "\n",
    "# Run TPM and save the result\n",
    "savepath = \"TPM_Didymos.jld2\"\n",
    "shapes = (shape1, shape2)\n",
    "suns = (sun_d1, sun_d2)\n",
    "AsteroidThermoPhysicalModels.run_TPM!(shapes, et_range, suns, D2_TO_D1, d2_d1, thermo_params, savepath, [:surf_temps, :forces, :torques])"
   ]
  },
  {
   "cell_type": "markdown",
   "id": "44f03531",
   "metadata": {},
   "source": [
    "# Visualize the result"
   ]
  },
  {
   "cell_type": "code",
   "execution_count": null,
   "id": "fd414f54",
   "metadata": {},
   "outputs": [],
   "source": [
    "latitude(facet::AsteroidThermoPhysicalModels.Facet) = latitude(facet.center)\n",
    "latitude(r) = asin(r[3] / norm(r))\n",
    "\n",
    "longitude(facet::AsteroidThermoPhysicalModels.Facet) = longitude(facet.center)\n",
    "longitude(r) = atan(r[2], r[1])\n",
    "\n",
    "\"\"\"\n",
    "    facet_to_grid(shape, data) -> x, y, gridded\n",
    "\n",
    "Make a lat-lon grid from facet-correlated data using ScatteredInterpolation.jl\n",
    "\"\"\"\n",
    "function facet_to_grid(shape, data)\n",
    "\n",
    "    lons = rad2deg.(longitude(facet) for facet in shape.facets)\n",
    "    lats = rad2deg.(latitude(facet)  for facet in shape.facets)\n",
    "    points = hcat(lons, lats)'\n",
    "\n",
    "    n = 180\n",
    "    x = range(-180, 180, length=n)\n",
    "    y = range(-90, 90, length=n)\n",
    "    X = repeat(x, n)[:]\n",
    "    Y = repeat(y', n)[:]\n",
    "    gridPoints = [X Y]'\n",
    "\n",
    "    itp = ScatteredInterpolation.interpolate(ScatteredInterpolation.Multiquadratic(), points, data)\n",
    "    interpolated = ScatteredInterpolation.evaluate(itp, gridPoints)\n",
    "    gridded = reshape(interpolated, n, n)\n",
    "\n",
    "    x, y, gridded\n",
    "end\n",
    "\n",
    "\"\"\"\n",
    "    temperature_map(shape, temps=surface_temperature(shape))\n",
    "\n",
    "Make temperature maps of a binary asteroid, `shape1` and `shape2`.\n",
    "\"\"\"\n",
    "function temperature_map(shape1::AsteroidThermoPhysicalModels.ShapeModel, shape2::AsteroidThermoPhysicalModels.ShapeModel;\n",
    "    temps1=AsteroidThermoPhysicalModels.surface_temperature(shape1), temps2=AsteroidThermoPhysicalModels.surface_temperature(shape2),\n",
    "    colormap=:hot, colorrange=extrema(vcat(temps1, temps2)),\n",
    "    draw_contour=true, nlevels=15, ticks=0:20:5000,\n",
    "    filepath=\"temp_maps.pdf\", titles=(\"\", \"\"),\n",
    ")\n",
    "\n",
    "    T_min, T_max = extrema(vcat(temps1, temps2))\n",
    "    println(\"Max. temperature: \", T_max)\n",
    "    println(\"Min. temperature: \", T_min)\n",
    "\n",
    "    fig = GLMakie.Figure(resolution=(1400, 600))\n",
    "\n",
    "    for (idx_shape, (shape, temps, title)) in enumerate(zip((shape1, shape2), (temps1, temps2), titles))\n",
    "\n",
    "        ax = GLMakie.Axis(fig[1, idx_shape],\n",
    "            title=title,\n",
    "            xlabel=\"Longitude [deg]\",\n",
    "            ylabel=\"Latitude [deg]\",\n",
    "            xticks=-180:30:180,\n",
    "            yticks=-90:30:90,\n",
    "        )\n",
    "        GLMakie.xlims!(ax, -180, 180)\n",
    "        GLMakie.ylims!(ax, -90, 90)\n",
    "    \n",
    "        x, y, gridded = facet_to_grid(shape, temps)\n",
    "        levels = range(colorrange..., nlevels+1)\n",
    "        cntrf = GLMakie.contourf!(ax, x, y, gridded; colormap, levels, extendlow=:auto, extendhigh=:auto)\n",
    "        draw_contour && GLMakie.contour!(x, y, gridded; color=:black, linewidth=0.5, levels)\n",
    "\n",
    "        if idx_shape == 2\n",
    "            GLMakie.Colorbar(fig[2, :], cntrf, ticks=ticks, label=\"Temperature [K]\", vertical=false, flipaxis=false)\n",
    "        end\n",
    "    end\n",
    "\n",
    "    GLMakie.save(filepath, fig)\n",
    "    fig\n",
    "end\n"
   ]
  },
  {
   "cell_type": "code",
   "execution_count": null,
   "id": "2e136d0c",
   "metadata": {},
   "outputs": [],
   "source": [
    "shape1, shape2 = JLD2.load(savepath)[\"shapes\"]\n",
    "temperature_map(shape1, shape2;\n",
    "    nlevels=20,\n",
    "    titles=(\"Didymos\", \"Dimorphos\"),\n",
    "    filepath=\"temp_maps_final.png\"\n",
    ")"
   ]
  },
  {
   "cell_type": "code",
   "execution_count": null,
   "id": "3c9abcf4",
   "metadata": {},
   "outputs": [],
   "source": []
  }
 ],
 "metadata": {
  "kernelspec": {
   "display_name": "Julia 1.8.4",
   "language": "julia",
   "name": "julia-1.8"
  },
  "language_info": {
   "file_extension": ".jl",
   "mimetype": "application/julia",
   "name": "julia",
   "version": "1.8.4"
  }
 },
 "nbformat": 4,
 "nbformat_minor": 5
}
