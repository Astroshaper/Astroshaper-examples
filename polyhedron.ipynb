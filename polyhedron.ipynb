{
 "cells": [
  {
   "cell_type": "code",
   "execution_count": 5,
   "metadata": {},
   "outputs": [
    {
     "data": {
      "text/plain": [
       "v\"1.8.4\""
      ]
     },
     "execution_count": 5,
     "metadata": {},
     "output_type": "execute_result"
    }
   ],
   "source": [
    "VERSION"
   ]
  },
  {
   "cell_type": "code",
   "execution_count": 6,
   "metadata": {},
   "outputs": [
    {
     "data": {
      "text/plain": [
       "\"/Users/masanorikanamaru/Documents/GitHub/Astroshaper\""
      ]
     },
     "execution_count": 6,
     "metadata": {},
     "output_type": "execute_result"
    }
   ],
   "source": [
    "pwd()"
   ]
  },
  {
   "cell_type": "code",
   "execution_count": 4,
   "metadata": {},
   "outputs": [],
   "source": [
    "# using BenchmarkTools\n",
    "# using Revise\n",
    "\n",
    "# using LinearAlgebra\n",
    "# using DataFrames\n",
    "\n",
    "# using FileIO\n",
    "# using JLD2"
   ]
  },
  {
   "cell_type": "code",
   "execution_count": 4,
   "metadata": {},
   "outputs": [],
   "source": [
    "# push!(LOAD_PATH, \"/path/to/MyPackage/src\")\n",
    "\n",
    "# include(\"shape.jl\")\n",
    "# include(\"smesh.jl\")\n",
    "# include(\"obj.jl\")\n",
    "# include(\"coordinate.jl\")\n",
    "# include(\"kepler.jl\")\n",
    "# include(\"spin.jl\")\n",
    "# include(\"YORP.jl\");"
   ]
  },
  {
   "cell_type": "code",
   "execution_count": 3,
   "metadata": {},
   "outputs": [],
   "source": [
    "# includet(\"polyhedron.jl\");"
   ]
  },
  {
   "cell_type": "code",
   "execution_count": 2,
   "metadata": {},
   "outputs": [],
   "source": [
    "using Revise\n",
    "using Astroshaper"
   ]
  },
  {
   "cell_type": "code",
   "execution_count": 7,
   "metadata": {},
   "outputs": [
    {
     "name": "stdout",
     "output_type": "stream",
     "text": [
      "/Users/masanorikanamaru/Documents/shape/ryugu/ryugu_test.obj\n"
     ]
    }
   ],
   "source": [
    "shapedir = \"/Users/masanorikanamaru/Documents/shape/ryugu\"\n",
    "\n",
    "shapename = \"ryugu_test.obj\"\n",
    "# shapename = \"SHAPE_SPC_49k_v20190802.obj\"\n",
    "# shapename = \"SHAPE_SPC_200k_v20190802.obj\"\n",
    "# shapename = \"SHAPE_SPC_800k_v20190802.obj\"\n",
    "# shapename = \"SHAPE_SPC_3M_v20190802.obj\"\n",
    "\n",
    "shapepath = joinpath(shapedir, shapename)\n",
    "println(shapepath)"
   ]
  },
  {
   "cell_type": "code",
   "execution_count": 8,
   "metadata": {},
   "outputs": [],
   "source": [
    "# shapepath = \"/Users/masanorikanamaru/Documents/shape/itokawa/itokawa_v25350_f49152.obj\"\n",
    "# shapepath = \"/Users/masanorikanamaru/Documents/shape/itokawa/itokawa_v2718_f5430.obj\""
   ]
  },
  {
   "cell_type": "code",
   "execution_count": 14,
   "metadata": {},
   "outputs": [
    {
     "name": "stdout",
     "output_type": "stream",
     "text": [
      "**** Load /Users/masanorikanamaru/Documents/shape/ryugu/ryugu_test.obj ****\n",
      "Vertices : 2976\n",
      "Faces    : 5932\n",
      "Edges    : 8898\n"
     ]
    }
   ],
   "source": [
    "topology, points = loadmesh(shapepath);\n",
    "points *= 1000.;\n",
    "\n",
    "println(\"**** Load \", shapepath, \" ****\")\n",
    "println(\"Vertices : \", nvertices(topology))\n",
    "println(\"Faces    : \", nfaces(topology))\n",
    "println(\"Edges    : \", nedges(topology))"
   ]
  },
  {
   "cell_type": "code",
   "execution_count": 16,
   "metadata": {},
   "outputs": [
    {
     "name": "stdout",
     "output_type": "stream",
     "text": [
      " 43.213379 seconds (1.70 G allocations: 42.759 GiB, 9.17% gc time, 1.42% compilation time)\n"
     ]
    }
   ],
   "source": [
    "@time potentials, accelerations = getSurfaceGravity(topology, points, 1950);\n",
    "\n",
    "#  5430-mesh :  10.599252 seconds (501.45 M allocations: 16.705 GiB, 12.62% gc time)\n",
    "# 49152-mesh : 833.042774 seconds (41.07 G allocations: 1.336 TiB, 12.05% gc time)"
   ]
  },
  {
   "cell_type": "code",
   "execution_count": 17,
   "metadata": {},
   "outputs": [
    {
     "data": {
      "text/plain": [
       "5932-element Vector{Float64}:\n",
       " -0.11022843455631387\n",
       " -0.11055700300154159\n",
       " -0.11084976876451896\n",
       " -0.10886417633894291\n",
       " -0.11046501569202959\n",
       " -0.11156486813369212\n",
       " -0.11205158106710629\n",
       " -0.10974989067619115\n",
       " -0.10862757598265667\n",
       " -0.10829975843514782\n",
       " -0.10995722367616974\n",
       " -0.11145116005965305\n",
       " -0.11195040954858723\n",
       "  ⋮\n",
       " -0.10842236641164982\n",
       " -0.1056540552555635\n",
       " -0.11244603244865889\n",
       " -0.11353109698471886\n",
       " -0.10496993229615241\n",
       " -0.10651132792013278\n",
       " -0.11104735671337346\n",
       " -0.11156906236953418\n",
       " -0.10874423182908297\n",
       " -0.11019719939169027\n",
       " -0.10764355481869335\n",
       " -0.10710614210771394"
      ]
     },
     "execution_count": 17,
     "metadata": {},
     "output_type": "execute_result"
    }
   ],
   "source": [
    "potentials"
   ]
  },
  {
   "cell_type": "code",
   "execution_count": 18,
   "metadata": {},
   "outputs": [
    {
     "data": {
      "text/plain": [
       "5932-element Vector{StaticArraysCore.SVector{3, Float64}}:\n",
       " [-9.325690046041817e-5, 0.00012351636053792872, -0.00018628783793681958]\n",
       " [-9.801849864012092e-5, 0.00012818416323230592, -0.00018140365697357673]\n",
       " [-9.528238418369941e-5, 0.00011242476848005237, -0.00019255534867114937]\n",
       " [-8.139553237168295e-5, 0.00012848030518850198, -0.00018682947177048936]\n",
       " [-0.00010180578933754875, 0.00013366858905758925, -0.00017537171903161695]\n",
       " [-0.00010487487189126445, 0.0001222929513797361, -0.00018300187527416455]\n",
       " [-0.00010174762797681023, 0.00010679692684477863, -0.00019403826770763154]\n",
       " [-8.933590711930843e-5, 0.00010766821024380583, -0.00019616864079672632]\n",
       " [-7.293032090525832e-5, 0.00012398270154360494, -0.00019309371079810495]\n",
       " [-7.382181715011198e-5, 0.00013851522679124027, -0.0001821742677347855]\n",
       " [-9.791959606457482e-5, 0.00014236247221405425, -0.00017000474677449838]\n",
       " [-0.00011046427479724392, 0.00012950639732109645, -0.00017464644708490852]\n",
       " [-0.00011071054029059781, 0.00012297793581653985, -0.00017972406613649017]\n",
       " ⋮\n",
       " [8.023077392071774e-5, -0.00013654300006532346, 0.00017890367474651507]\n",
       " [7.420323100735168e-5, -0.00012052591659298247, 0.0001879479565362595]\n",
       " [0.0001248971353189448, 4.1152382656164284e-6, -0.00020887892673506202]\n",
       " [0.00013116188204588788, -2.5725968852198433e-6, -0.00020690245006035717]\n",
       " [1.5306628606050695e-5, 0.00022261058877543112, 7.103289586040438e-5]\n",
       " [2.180430690459969e-5, 0.00021989792698248165, 8.303252127905257e-5]\n",
       " [0.00019595029592662196, 2.1423980693287718e-5, -0.0001427033480029872]\n",
       " [0.00018996761272199923, 1.3396421451773547e-5, -0.00015219250117916669]\n",
       " [-0.00019884866906642453, 1.87240631454892e-5, 0.00013252839324382913]\n",
       " [-0.0001957974659758941, 1.3007982817084944e-5, 0.000141361752417052]\n",
       " [-0.00014267145389418494, -0.00016018307896287546, 0.00010297361981837354]\n",
       " [-0.0001502740447638758, -0.00015572078851812008, 9.745989731052988e-5]"
      ]
     },
     "execution_count": 18,
     "metadata": {},
     "output_type": "execute_result"
    }
   ],
   "source": [
    "accelerations"
   ]
  },
  {
   "cell_type": "code",
   "execution_count": null,
   "metadata": {},
   "outputs": [],
   "source": [
    "open(\"potential.txt\", \"w\") do out\n",
    "    Base.print_array(out, potentials)\n",
    "end"
   ]
  },
  {
   "cell_type": "code",
   "execution_count": null,
   "metadata": {},
   "outputs": [],
   "source": [
    "open(\"accelration.txt\", \"w\") do out\n",
    "    Base.print_array(out, norm.(accelerations))\n",
    "end"
   ]
  },
  {
   "cell_type": "code",
   "execution_count": null,
   "metadata": {},
   "outputs": [],
   "source": []
  },
  {
   "cell_type": "markdown",
   "metadata": {},
   "source": [
    "# objの読込\n",
    "\n",
    "# objの保存\n",
    "\n",
    "# objの加工\n",
    "\n",
    "- 頂点座標を、動系方向に ± 1 m の範囲でランダムに散らす"
   ]
  },
  {
   "cell_type": "code",
   "execution_count": 12,
   "metadata": {},
   "outputs": [],
   "source": [
    "includet(\"obj.jl\")"
   ]
  },
  {
   "cell_type": "code",
   "execution_count": null,
   "metadata": {},
   "outputs": [],
   "source": [
    "shapedir = \"/Users/masanorikanamaru/Documents/shape/ryugu\"\n",
    "\n",
    "# shapename = \"ryugu_test.obj\"\n",
    "shapename = \"SHAPE_SPC_49k_v20190802.obj\"\n",
    "# shapename = \"SHAPE_SPC_200k_v20190802.obj\"\n",
    "# shapename = \"SHAPE_SPC_800k_v20190802.obj\"\n",
    "# shapename = \"SHAPE_SPC_3M_v20190802.obj\"\n",
    "\n",
    "shapepath = joinpath(shapedir, shapename)\n",
    "println(shapepath)"
   ]
  },
  {
   "cell_type": "code",
   "execution_count": 13,
   "metadata": {},
   "outputs": [
    {
     "name": "stdout",
     "output_type": "stream",
     "text": [
      "+-----------------------------+\n",
      "|        Load OBJ file        |\n",
      "+-----------------------------+\n",
      " Nodes: 2718\n",
      " Faces: 5430\n"
     ]
    }
   ],
   "source": [
    "nodes, faces = loadobj(shapepath);"
   ]
  },
  {
   "cell_type": "code",
   "execution_count": null,
   "metadata": {},
   "outputs": [],
   "source": [
    "N = 1000\n",
    "noise_weight = 4\n",
    "dirpath = \"../../shape/ryugu/SHAPE_SPC_49k_v20190802_perturbed_pm4m\"\n",
    "\n",
    "for i in 1:N\n",
    "    perturbed_nodes = perturbnodes(nodes, noise_weight)\n",
    "\n",
    "    filename = string(lpad(i, 4, \"0\"), \".obj\")\n",
    "    filepath = joinpath(dirpath, filename)\n",
    "    saveobj(filepath, perturbed_nodes, faces)\n",
    "end"
   ]
  },
  {
   "cell_type": "code",
   "execution_count": null,
   "metadata": {},
   "outputs": [],
   "source": []
  },
  {
   "cell_type": "code",
   "execution_count": null,
   "metadata": {},
   "outputs": [],
   "source": []
  },
  {
   "cell_type": "code",
   "execution_count": null,
   "metadata": {},
   "outputs": [],
   "source": [
    "topology, points = loadmesh(shapepath);\n",
    "points *= 1000.;"
   ]
  },
  {
   "cell_type": "code",
   "execution_count": null,
   "metadata": {},
   "outputs": [],
   "source": [
    "areas = getFaceAreas(topology, points);\n",
    "radii = sqrt.(areas / π)\n",
    "mean_radius = mean(radii)"
   ]
  },
  {
   "cell_type": "code",
   "execution_count": null,
   "metadata": {},
   "outputs": [],
   "source": []
  },
  {
   "cell_type": "code",
   "execution_count": null,
   "metadata": {},
   "outputs": [],
   "source": []
  }
 ],
 "metadata": {
  "kernelspec": {
   "display_name": "Julia 1.8.1",
   "language": "julia",
   "name": "julia-1.8"
  },
  "language_info": {
   "file_extension": ".jl",
   "mimetype": "application/julia",
   "name": "julia",
   "version": "1.8.4"
  }
 },
 "nbformat": 4,
 "nbformat_minor": 4
}
